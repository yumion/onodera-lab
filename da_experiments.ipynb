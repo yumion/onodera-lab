{
  "nbformat": 4,
  "nbformat_minor": 0,
  "metadata": {
    "colab": {
      "name": "da_experiments.ipynb",
      "provenance": [],
      "collapsed_sections": [],
      "authorship_tag": "ABX9TyN1uhRSAZT34ajh+gbeBRdY",
      "include_colab_link": true
    },
    "kernelspec": {
      "name": "python3",
      "display_name": "Python 3"
    },
    "accelerator": "GPU"
  },
  "cells": [
    {
      "cell_type": "markdown",
      "metadata": {
        "id": "view-in-github",
        "colab_type": "text"
      },
      "source": [
        "<a href=\"https://colab.research.google.com/github/yumion/onodera-lab/blob/master/da_experiments.ipynb\" target=\"_parent\"><img src=\"https://colab.research.google.com/assets/colab-badge.svg\" alt=\"Open In Colab\"/></a>"
      ]
    },
    {
      "cell_type": "markdown",
      "metadata": {
        "id": "4foHMGHKprWB",
        "colab_type": "text"
      },
      "source": [
        "# ImageDataGenerator vs albumentations"
      ]
    },
    {
      "cell_type": "markdown",
      "metadata": {
        "id": "E_4pgI5VpnBO",
        "colab_type": "text"
      },
      "source": [
        "# 共通のライブラリをimport "
      ]
    },
    {
      "cell_type": "code",
      "metadata": {
        "id": "-z0uo3MblgSP",
        "colab_type": "code",
        "colab": {}
      },
      "source": [
        "from glob import glob\n",
        "import numpy as np\n",
        "import cv2\n",
        "from PIL import Image\n",
        "from matplotlib import pyplot as plt\n",
        "%matplotlib inline"
      ],
      "execution_count": 0,
      "outputs": []
    },
    {
      "cell_type": "markdown",
      "metadata": {
        "id": "YpwBGqIUplqH",
        "colab_type": "text"
      },
      "source": [
        "# tensorflowのバージョン確認"
      ]
    },
    {
      "cell_type": "code",
      "metadata": {
        "id": "w2FPs_Pql562",
        "colab_type": "code",
        "colab": {}
      },
      "source": [
        "import tensorflow as tf\n",
        "from tensorflow import keras as K"
      ],
      "execution_count": 0,
      "outputs": []
    },
    {
      "cell_type": "code",
      "metadata": {
        "id": "pst_2k2jmAlJ",
        "colab_type": "code",
        "colab": {
          "base_uri": "https://localhost:8080/",
          "height": 51
        },
        "outputId": "f4d11d51-f442-468f-900c-cf620a5283f1"
      },
      "source": [
        "print(tf.__version__)\n",
        "print(K.__version__)"
      ],
      "execution_count": 3,
      "outputs": [
        {
          "output_type": "stream",
          "text": [
            "2.2.0\n",
            "2.3.0-tf\n"
          ],
          "name": "stdout"
        }
      ]
    },
    {
      "cell_type": "markdown",
      "metadata": {
        "id": "TZ2dk0TnBulm",
        "colab_type": "text"
      },
      "source": [
        "# seed固定"
      ]
    },
    {
      "cell_type": "code",
      "metadata": {
        "id": "406mjUSiBxTx",
        "colab_type": "code",
        "colab": {}
      },
      "source": [
        "SEED = 1\n",
        "np.random.seed(SEED)\n",
        "tf.random.set_seed(SEED)"
      ],
      "execution_count": 0,
      "outputs": []
    },
    {
      "cell_type": "markdown",
      "metadata": {
        "id": "AHx4l6jQpkxn",
        "colab_type": "text"
      },
      "source": [
        "# Data Augmentation用のライブラリ"
      ]
    },
    {
      "cell_type": "code",
      "metadata": {
        "id": "svLHjinXmDAD",
        "colab_type": "code",
        "colab": {}
      },
      "source": [
        "import albumentations as albu\n",
        "from tensorflow.keras.preprocessing.image import ImageDataGenerator"
      ],
      "execution_count": 0,
      "outputs": []
    },
    {
      "cell_type": "markdown",
      "metadata": {
        "id": "ywAA9N7upkQ9",
        "colab_type": "text"
      },
      "source": [
        "# Datasetの読み込み\n",
        "cifar10を使います"
      ]
    },
    {
      "cell_type": "markdown",
      "metadata": {
        "id": "0tIF2Mlf_uri",
        "colab_type": "text"
      },
      "source": [
        "## keras.datasetsを使う場合\n",
        "PILで読み込んでいる？"
      ]
    },
    {
      "cell_type": "code",
      "metadata": {
        "id": "ic9TFo0bmsVi",
        "colab_type": "code",
        "colab": {}
      },
      "source": [
        "(x_train, y_train), (x_test, y_test) = K.datasets.cifar10.load_data()"
      ],
      "execution_count": 0,
      "outputs": []
    },
    {
      "cell_type": "code",
      "metadata": {
        "id": "fnmc4IbUo3Bj",
        "colab_type": "code",
        "colab": {
          "base_uri": "https://localhost:8080/",
          "height": 34
        },
        "outputId": "b842a56d-427f-4ca4-97d7-337f4c8cbf86"
      },
      "source": [
        "# データ数の確認\n",
        "len(x_train), len(x_test)"
      ],
      "execution_count": 65,
      "outputs": [
        {
          "output_type": "execute_result",
          "data": {
            "text/plain": [
              "(50000, 10000)"
            ]
          },
          "metadata": {
            "tags": []
          },
          "execution_count": 65
        }
      ]
    },
    {
      "cell_type": "code",
      "metadata": {
        "id": "CbeZ-qY_xuxD",
        "colab_type": "code",
        "colab": {
          "base_uri": "https://localhost:8080/",
          "height": 34
        },
        "outputId": "fb958c72-cb3b-4e17-cf2f-015493ca0c34"
      },
      "source": [
        "x_train.shape, y_train.shape"
      ],
      "execution_count": 66,
      "outputs": [
        {
          "output_type": "execute_result",
          "data": {
            "text/plain": [
              "((50000, 32, 32, 3), (50000, 1))"
            ]
          },
          "metadata": {
            "tags": []
          },
          "execution_count": 66
        }
      ]
    },
    {
      "cell_type": "code",
      "metadata": {
        "id": "gTtyYsYDYMOZ",
        "colab_type": "code",
        "colab": {
          "base_uri": "https://localhost:8080/",
          "height": 300
        },
        "outputId": "65b715c8-a452-4101-a158-0b38fe03e57c"
      },
      "source": [
        "print(y_train[200])\n",
        "plt.imshow(x_train[200])"
      ],
      "execution_count": 75,
      "outputs": [
        {
          "output_type": "stream",
          "text": [
            "[6]\n"
          ],
          "name": "stdout"
        },
        {
          "output_type": "execute_result",
          "data": {
            "text/plain": [
              "<matplotlib.image.AxesImage at 0x7fa8bacbe3c8>"
            ]
          },
          "metadata": {
            "tags": []
          },
          "execution_count": 75
        },
        {
          "output_type": "display_data",
          "data": {
            "image/png": "[encoded data removed]",
            "text/plain": [
              "<Figure size 432x288 with 1 Axes>"
            ]
          },
          "metadata": {
            "tags": [],
            "needs_background": "light"
          }
        }
      ]
    },
    {
      "cell_type": "markdown",
      "metadata": {
        "id": "DWaC03sL-_mh",
        "colab_type": "text"
      },
      "source": [
        "---"
      ]
    },
    {
      "cell_type": "markdown",
      "metadata": {
        "id": "BOBw2XMQ-59N",
        "colab_type": "text"
      },
      "source": [
        "## torchvisionを使う場合\n",
        "cifar10をlocalにダウンロードします"
      ]
    },
    {
      "cell_type": "code",
      "metadata": {
        "id": "cK7ySzbF-_Cb",
        "colab_type": "code",
        "colab": {
          "base_uri": "https://localhost:8080/",
          "height": 34
        },
        "outputId": "200084eb-4aeb-4513-d8b0-27c577cc6bdb"
      },
      "source": [
        "import torchvision\n",
        "# train\n",
        "trainset = torchvision.datasets.CIFAR10('./data', train=True, download=True)"
      ],
      "execution_count": 6,
      "outputs": [
        {
          "output_type": "stream",
          "text": [
            "Files already downloaded and verified\n"
          ],
          "name": "stdout"
        }
      ]
    },
    {
      "cell_type": "code",
      "metadata": {
        "id": "BcgCihYzA91C",
        "colab_type": "code",
        "colab": {
          "base_uri": "https://localhost:8080/",
          "height": 34
        },
        "outputId": "1113ce10-6b72-4bc8-e5a6-fde414335e60"
      },
      "source": [
        "# test\n",
        "testset = torchvision.datasets.CIFAR10('./data', train=False, download=True)"
      ],
      "execution_count": 7,
      "outputs": [
        {
          "output_type": "stream",
          "text": [
            "Files already downloaded and verified\n"
          ],
          "name": "stdout"
        }
      ]
    },
    {
      "cell_type": "markdown",
      "metadata": {
        "id": "Sz6AhIs4SUA4",
        "colab_type": "text"
      },
      "source": [
        "pngで保存（PIL使用）"
      ]
    },
    {
      "cell_type": "code",
      "metadata": {
        "id": "gk_l42mALN_E",
        "colab_type": "code",
        "colab": {
          "base_uri": "https://localhost:8080/",
          "height": 119
        },
        "outputId": "9579e07f-6ec2-47b8-f89c-874377cc143e"
      },
      "source": [
        "# 参考\n",
        "# https://cafe-and-cookies.tokyo/wp/?p=942\n",
        "import os, sys\n",
        "import pickle\n",
        "from tqdm import tqdm\n",
        "\n",
        "\n",
        "def unpickle(file):\n",
        "    with open(file, 'rb') as fo:\n",
        "        dict = pickle.load(fo, encoding='bytes')\n",
        "    return dict\n",
        "\n",
        "\n",
        "def extract(datafile, labelfile, savedir):\n",
        "    try:\n",
        "        os.makedirs(savedir)\n",
        "    except:\n",
        "        pass\n",
        "\n",
        "    if os.path.isfile(datafile) == False or os.path.isfile(labelfile) == False:\n",
        "        print(\"invalid file error: data file:{}, label file:{}\".format(datafile, labelfile))\n",
        "        sys.exit()\n",
        "\n",
        "\n",
        "    # ラベルのロード。ラベル名しか使わない。\n",
        "    labels    = unpickle(labelfile)\n",
        "\n",
        "    if b\"label_names\" in labels:\n",
        "        labels    = unpickle(labelfile)[b\"label_names\"]\n",
        "    else:\n",
        "        labels    = unpickle(labelfile)[b\"coarse_label_names\"]\n",
        "\n",
        "    # イメージデータのロード。ファイル名、ラベル、データをそれぞれ取り出しておく。\n",
        "    images      = unpickle(datafile)\n",
        "\n",
        "    filenames   = images[b\"filenames\"]\n",
        "    if b\"labels\" in images:\n",
        "        image_labels = images[b\"labels\"]\n",
        "    else:\n",
        "        image_labels = images[b\"coarse_labels\"]\n",
        "    image_data        = images[b\"data\"]\n",
        "\n",
        "\n",
        "    # ファイル格納先のフォルダを作成\n",
        "    for i in labels:\n",
        "        try:\n",
        "            dir=os.path.join(savedir, i.decode('utf-8'))\n",
        "            os.makedirs(dir)\n",
        "        except:\n",
        "            pass\n",
        "\n",
        "    # イメージファイルの展開\n",
        "    for i, _ in tqdm(enumerate(filenames)):\n",
        "        filename    = filenames[i]\n",
        "        image_label = image_labels[i]\n",
        "        image       = image_data[i]\n",
        "        file_path   = os.path.join(os.path.join(savedir, labels[image_label].decode('utf-8'), filename.decode('utf-8')))\n",
        "\n",
        "        reshaped_array = np.reshape(image, [3, 32, 32]).transpose(1,2,0)\n",
        "        im = Image.fromarray(reshaped_array)\n",
        "\n",
        "        with open(file_path, mode='wb') as out:\n",
        "            im.save(out)\n",
        "        # print(\"Save image: {}\".format(file_path))\n",
        "\n",
        "\n",
        "extract(\"./data/cifar-10-batches-py/data_batch_1\", \"./data/cifar-10-batches-py/batches.meta\", \"./PNG/train\")\n",
        "extract(\"./data/cifar-10-batches-py/data_batch_2\", \"./data/cifar-10-batches-py/batches.meta\", \"./PNG/train\")\n",
        "extract(\"./data/cifar-10-batches-py/data_batch_3\", \"./data/cifar-10-batches-py/batches.meta\", \"./PNG/train\")\n",
        "extract(\"./data/cifar-10-batches-py/data_batch_4\", \"./data/cifar-10-batches-py/batches.meta\", \"./PNG/train\")\n",
        "extract(\"./data/cifar-10-batches-py/data_batch_5\", \"./data/cifar-10-batches-py/batches.meta\", \"./PNG/train\")\n",
        "extract(\"./data/cifar-10-batches-py/test_batch\", \"./data/cifar-10-batches-py/batches.meta\", \"./PNG/test\")"
      ],
      "execution_count": 8,
      "outputs": [
        {
          "output_type": "stream",
          "text": [
            "10000it [00:03, 2778.65it/s]\n",
            "10000it [00:03, 2882.52it/s]\n",
            "10000it [00:03, 2822.99it/s]\n",
            "10000it [00:03, 2888.97it/s]\n",
            "10000it [00:03, 2855.20it/s]\n",
            "10000it [00:03, 2888.37it/s]\n"
          ],
          "name": "stderr"
        }
      ]
    },
    {
      "cell_type": "code",
      "metadata": {
        "id": "R9JIR6ijWMLj",
        "colab_type": "code",
        "colab": {}
      },
      "source": [
        "label2index = {\n",
        "    'airplane': 0, \n",
        "    'automobile': 1,\n",
        "    'bird': 2,\n",
        "    'cat': 3,\n",
        "    'deer': 4,\n",
        "    'dog': 5,\n",
        "    'frog': 6,\n",
        "    'horse': 7,\n",
        "    'ship': 8,\n",
        "    'truck': 9\n",
        "}"
      ],
      "execution_count": 0,
      "outputs": []
    },
    {
      "cell_type": "code",
      "metadata": {
        "id": "eVF3uD0gVY76",
        "colab_type": "code",
        "colab": {}
      },
      "source": [
        "x_train = sorted(glob('./PNG/train/*/*.png'))\n",
        "y_train = [label2index[x.split('/')[-2]] for x in x_train]"
      ],
      "execution_count": 0,
      "outputs": []
    },
    {
      "cell_type": "code",
      "metadata": {
        "id": "kLxV0NBUW4dK",
        "colab_type": "code",
        "colab": {
          "base_uri": "https://localhost:8080/",
          "height": 34
        },
        "outputId": "e39c886a-076b-41d6-9a8b-1a4efc05cf78"
      },
      "source": [
        "len(x_train), len(y_train)"
      ],
      "execution_count": 55,
      "outputs": [
        {
          "output_type": "execute_result",
          "data": {
            "text/plain": [
              "(50000, 50000)"
            ]
          },
          "metadata": {
            "tags": []
          },
          "execution_count": 55
        }
      ]
    },
    {
      "cell_type": "code",
      "metadata": {
        "id": "t3ae8hSfgpqJ",
        "colab_type": "code",
        "colab": {
          "base_uri": "https://localhost:8080/",
          "height": 300
        },
        "outputId": "64ada7a3-57f7-4915-dccc-74f4323d3d4f"
      },
      "source": [
        "print(y_train[10000])\n",
        "im = Image.open(x_train[10000])\n",
        "im = np.array(im)\n",
        "plt.imshow(im)"
      ],
      "execution_count": 63,
      "outputs": [
        {
          "output_type": "stream",
          "text": [
            "2\n"
          ],
          "name": "stdout"
        },
        {
          "output_type": "execute_result",
          "data": {
            "text/plain": [
              "<matplotlib.image.AxesImage at 0x7fa8bb8ab7b8>"
            ]
          },
          "metadata": {
            "tags": []
          },
          "execution_count": 63
        },
        {
          "output_type": "display_data",
          "data": {
            "image/png": "[encoded data removed]",
            "text/plain": [
              "<Figure size 432x288 with 1 Axes>"
            ]
          },
          "metadata": {
            "tags": [],
            "needs_background": "light"
          }
        }
      ]
    },
    {
      "cell_type": "code",
      "metadata": {
        "id": "_Oind-n-V6vu",
        "colab_type": "code",
        "colab": {}
      },
      "source": [
        "x_test = sorted(glob('./PNG/test/*/*.png'))\n",
        "y_test = [label2index[x.split('/')[-2]] for x in x_test]"
      ],
      "execution_count": 0,
      "outputs": []
    },
    {
      "cell_type": "code",
      "metadata": {
        "id": "7gGY8mB-X_Xv",
        "colab_type": "code",
        "colab": {
          "base_uri": "https://localhost:8080/",
          "height": 34
        },
        "outputId": "fe39e963-378a-4e27-cfc3-8c43ae67dfb4"
      },
      "source": [
        "len(x_test), len(y_test)"
      ],
      "execution_count": 58,
      "outputs": [
        {
          "output_type": "execute_result",
          "data": {
            "text/plain": [
              "(10000, 10000)"
            ]
          },
          "metadata": {
            "tags": []
          },
          "execution_count": 58
        }
      ]
    },
    {
      "cell_type": "markdown",
      "metadata": {
        "id": "DUZSBFMMruIa",
        "colab_type": "text"
      },
      "source": [
        "# Model構築\n",
        "ResNet50"
      ]
    },
    {
      "cell_type": "code",
      "metadata": {
        "id": "qUPfzH7krtOX",
        "colab_type": "code",
        "colab": {}
      },
      "source": [
        "def build_model(num_classes=10):\n",
        "    base_model = K.applications.resnet50.ResNet50(include_top=False, weights='imagenet')\n",
        "    x = base_model.output\n",
        "    x = K.layers.GlobalAveragePooling2D()(x)\n",
        "    outputs = K.layers.Dense(num_classes, activation='softmax')(x)\n",
        "\n",
        "    model = K.models.Model(base_model.input, outputs)\n",
        "    # model.summary()\n",
        "    return model"
      ],
      "execution_count": 0,
      "outputs": []
    },
    {
      "cell_type": "markdown",
      "metadata": {
        "id": "x1Fdr2Pd9cpd",
        "colab_type": "text"
      },
      "source": [
        "# Generator作成"
      ]
    },
    {
      "cell_type": "code",
      "metadata": {
        "id": "1DgzgQvkTMMu",
        "colab_type": "code",
        "colab": {}
      },
      "source": [
        "# 画像から読み込む場合\n",
        "class ImageSequence(K.utils.Sequence):\n",
        "    def __init__(\n",
        "        self,\n",
        "        X: list, Y: list,\n",
        "        batch_size: int,\n",
        "        augmentation=None,\n",
        "    ):\n",
        "        self.X = X\n",
        "        self.Y = Y\n",
        "        self.batch_size = batch_size\n",
        "        self.augmentation = augmentation\n",
        "\n",
        "    def __getitem__(self, idx):\n",
        "        input_data = self.X[\n",
        "            idx * self.batch_size:(idx + 1) * self.batch_size\n",
        "        ]\n",
        "        labels = self.Y[\n",
        "            idx * self.batch_size:(idx + 1) * self.batch_size\n",
        "        ]\n",
        "        batch_x = list()\n",
        "        batch_y = list()\n",
        "\n",
        "        for imagefile, label in zip(input_data, labels):\n",
        "            # read image by PIL\n",
        "            input_image = Image.open(imagefile)\n",
        "            input_image = np.array(input_image)\n",
        "            # read image by opencv\n",
        "            # input_image = cv2.imread(imagefile)\n",
        "\n",
        "            # Horizontal flipのみ\n",
        "            if self.augmentation == 'imagedatagen':\n",
        "                input_image = _image_augmentation(input_image.copy())\n",
        "                \n",
        "            elif self.augmentation == 'albumentation':\n",
        "                input_image = _get_augmentation(input_image.copy())\n",
        "\n",
        "            batch_x.append(input_image)\n",
        "            batch_y.append(label)\n",
        "\n",
        "        batch_x = np.array(batch_x)\n",
        "        batch_y = np.array(batch_y)\n",
        "        batch_x, batch_y = _pre_process(batch_x, batch_y)\n",
        "        \n",
        "        return batch_x, batch_y\n",
        "\n",
        "    def __len__(self):\n",
        "        return len(self.X) // self.batch_size\n",
        "    \n",
        "\n",
        "def _pre_process(batch_x, batch_y, num_classes=10):\n",
        "    batch_x = batch_x.astype('float32') / 255.\n",
        "    batch_y = np.identity(num_classes)[batch_y].squeeze()\n",
        "    return batch_x, batch_y\n",
        "\n",
        "    \n",
        "def _image_augmentation(image):\n",
        "    image_datagen = ImageDataGenerator(horizontal_flip=True)\n",
        "    gen = image_datagen.flow(image[np.newaxis], batch_size=1)\n",
        "    img_batches = next(gen)\n",
        "    return img_batches[0]\n",
        "\n",
        "\n",
        "def _get_augmentation(image):\n",
        "    transform = [\n",
        "        albu.HorizontalFlip(p=0.5),\n",
        "    ]\n",
        "    transforms = albu.Compose(transform)\n",
        "    augmented = transforms(image=image)\n",
        "    return augmented['image']"
      ],
      "execution_count": 0,
      "outputs": []
    },
    {
      "cell_type": "code",
      "metadata": {
        "id": "2C1BCz9jn8Qy",
        "colab_type": "code",
        "colab": {}
      },
      "source": [
        "# keras.datasetsの場合\n",
        "class ImageSequence(K.utils.Sequence):\n",
        "    def __init__(\n",
        "        self,\n",
        "        X: np.array, Y: np.array,\n",
        "        batch_size: int,\n",
        "        augmentation=None,\n",
        "    ):\n",
        "        self.X = X\n",
        "        self.Y = Y\n",
        "        self.batch_size = batch_size\n",
        "        self.augmentation = augmentation\n",
        "\n",
        "    def __getitem__(self, idx):\n",
        "        input_data = self.X[\n",
        "            idx * self.batch_size:(idx + 1) * self.batch_size\n",
        "        ]\n",
        "        labels = self.Y[\n",
        "            idx * self.batch_size:(idx + 1) * self.batch_size\n",
        "        ]\n",
        "        batch_x = list()\n",
        "        batch_y = list()\n",
        "\n",
        "        for input_image, label in zip(input_data, labels):\n",
        "            # Horizontal flipのみ\n",
        "            if self.augmentation == 'imagedatagen':\n",
        "                input_image = _image_augmentation(input_image.copy())\n",
        "                \n",
        "            elif self.augmentation == 'albumentation':\n",
        "                input_image = _get_augmentation(input_image.copy())\n",
        "\n",
        "            batch_x.append(input_image)\n",
        "            batch_y.append(label)\n",
        "\n",
        "        batch_x = np.array(batch_x)\n",
        "        batch_y = np.array(batch_y)\n",
        "        batch_x, batch_y = _pre_process(batch_x, batch_y)\n",
        "        \n",
        "        return batch_x, batch_y\n",
        "\n",
        "    def __len__(self):\n",
        "        return len(self.X) // self.batch_size\n",
        "    \n",
        "\n",
        "def _pre_process(batch_x, batch_y, num_classes=10):\n",
        "    batch_x = batch_x.astype('float32') / 255.\n",
        "    batch_y = np.identity(num_classes)[batch_y].squeeze()\n",
        "    return batch_x, batch_y\n",
        "\n",
        "    \n",
        "def _image_augmentation(image):\n",
        "    image_datagen = ImageDataGenerator(horizontal_flip=True)\n",
        "    gen = image_datagen.flow(image[np.newaxis], batch_size=1)\n",
        "    img_batches = next(gen)\n",
        "    return img_batches[0]\n",
        "\n",
        "\n",
        "def _get_augmentation(image):\n",
        "    transform = [\n",
        "        albu.HorizontalFlip(p=0.5),\n",
        "    ]\n",
        "    transforms = albu.Compose(transform)\n",
        "    augmented = transforms(image=image)\n",
        "    return augmented['image']"
      ],
      "execution_count": 0,
      "outputs": []
    },
    {
      "cell_type": "markdown",
      "metadata": {
        "id": "PuGPrO0tzGcI",
        "colab_type": "text"
      },
      "source": [
        "# 学習条件"
      ]
    },
    {
      "cell_type": "code",
      "metadata": {
        "id": "KwH7SwgevPxy",
        "colab_type": "code",
        "colab": {}
      },
      "source": [
        "# Fixed Parameters\n",
        "batch_size = 256\n",
        "epochs = 20\n",
        "num_classes = 10"
      ],
      "execution_count": 0,
      "outputs": []
    },
    {
      "cell_type": "markdown",
      "metadata": {
        "id": "IS2_8oY7i5ZA",
        "colab_type": "text"
      },
      "source": [
        "# ベースライン"
      ]
    },
    {
      "cell_type": "code",
      "metadata": {
        "id": "6OeE8bF4DfYq",
        "colab_type": "code",
        "colab": {}
      },
      "source": [
        "model_noaug = build_model(num_classes)\n",
        "model_noaug.compile(loss=\"categorical_crossentropy\", optimizer='adam', metrics=[\"acc\"])"
      ],
      "execution_count": 0,
      "outputs": []
    },
    {
      "cell_type": "code",
      "metadata": {
        "id": "q_1w2H6lxUsg",
        "colab_type": "code",
        "colab": {}
      },
      "source": [
        "train_gen = ImageSequence(\n",
        "    x_train, y_train, batch_size, augmentation=None\n",
        ")\n",
        "\n",
        "test_gen = ImageSequence(\n",
        "    x_test, y_test, batch_size, augmentation=None\n",
        ")"
      ],
      "execution_count": 0,
      "outputs": []
    },
    {
      "cell_type": "code",
      "metadata": {
        "id": "ew9_NF4dvPej",
        "colab_type": "code",
        "colab": {
          "base_uri": "https://localhost:8080/",
          "height": 697
        },
        "outputId": "adfa0b52-b08f-420e-fc2d-f17e1421f3fb"
      },
      "source": [
        "baseline = model_noaug.fit(\n",
        "    train_gen, \n",
        "    steps_per_epoch=len(train_gen),\n",
        "    epochs=epochs, \n",
        "    validation_data=test_gen,\n",
        "    validation_steps=len(test_gen),\n",
        "    verbose=1\n",
        ")"
      ],
      "execution_count": 83,
      "outputs": [
        {
          "output_type": "stream",
          "text": [
            "Epoch 1/20\n",
            "195/195 [==============================] - 29s 149ms/step - loss: 1.0178 - acc: 0.6679 - val_loss: 4.1094 - val_acc: 0.1000\n",
            "Epoch 2/20\n",
            "195/195 [==============================] - 28s 145ms/step - loss: 0.5539 - acc: 0.8113 - val_loss: 3.9991 - val_acc: 0.1437\n",
            "Epoch 3/20\n",
            "195/195 [==============================] - 28s 145ms/step - loss: 0.4636 - acc: 0.8428 - val_loss: 3.2334 - val_acc: 0.1847\n",
            "Epoch 4/20\n",
            "195/195 [==============================] - 28s 146ms/step - loss: 0.3535 - acc: 0.8782 - val_loss: 1.4973 - val_acc: 0.5359\n",
            "Epoch 5/20\n",
            "195/195 [==============================] - 28s 145ms/step - loss: 0.2520 - acc: 0.9139 - val_loss: 1.4479 - val_acc: 0.6294\n",
            "Epoch 6/20\n",
            "195/195 [==============================] - 28s 146ms/step - loss: 0.2013 - acc: 0.9304 - val_loss: 0.8649 - val_acc: 0.7602\n",
            "Epoch 7/20\n",
            "195/195 [==============================] - 28s 146ms/step - loss: 0.1662 - acc: 0.9428 - val_loss: 0.9268 - val_acc: 0.7611\n",
            "Epoch 8/20\n",
            "195/195 [==============================] - 28s 145ms/step - loss: 0.1415 - acc: 0.9510 - val_loss: 1.1121 - val_acc: 0.7251\n",
            "Epoch 9/20\n",
            "195/195 [==============================] - 28s 146ms/step - loss: 0.1252 - acc: 0.9570 - val_loss: 0.9845 - val_acc: 0.7723\n",
            "Epoch 10/20\n",
            "195/195 [==============================] - 28s 146ms/step - loss: 0.3051 - acc: 0.9099 - val_loss: 8832.6182 - val_acc: 0.1165\n",
            "Epoch 11/20\n",
            "195/195 [==============================] - 28s 146ms/step - loss: 1.4942 - acc: 0.5719 - val_loss: 1979.4663 - val_acc: 0.2304\n",
            "Epoch 12/20\n",
            "195/195 [==============================] - 28s 146ms/step - loss: 1.0160 - acc: 0.6710 - val_loss: 1.2821 - val_acc: 0.5590\n",
            "Epoch 13/20\n",
            "195/195 [==============================] - 28s 146ms/step - loss: 0.9624 - acc: 0.7005 - val_loss: 4.8522 - val_acc: 0.5394\n",
            "Epoch 14/20\n",
            "195/195 [==============================] - 28s 145ms/step - loss: 0.8060 - acc: 0.7416 - val_loss: 3.2705 - val_acc: 0.4966\n",
            "Epoch 15/20\n",
            "195/195 [==============================] - 28s 146ms/step - loss: 1.4553 - acc: 0.5346 - val_loss: 3.6644 - val_acc: 0.1633\n",
            "Epoch 16/20\n",
            "195/195 [==============================] - 28s 145ms/step - loss: 1.3289 - acc: 0.5566 - val_loss: 1.6100 - val_acc: 0.4547\n",
            "Epoch 17/20\n",
            "195/195 [==============================] - 28s 146ms/step - loss: 1.1223 - acc: 0.6304 - val_loss: 1.4914 - val_acc: 0.4914\n",
            "Epoch 18/20\n",
            "195/195 [==============================] - 28s 146ms/step - loss: 1.1273 - acc: 0.6208 - val_loss: 1.2017 - val_acc: 0.5877\n",
            "Epoch 19/20\n",
            "195/195 [==============================] - 28s 145ms/step - loss: 0.8186 - acc: 0.7122 - val_loss: 0.9352 - val_acc: 0.6699\n",
            "Epoch 20/20\n",
            "195/195 [==============================] - 28s 146ms/step - loss: 0.7516 - acc: 0.7416 - val_loss: 0.8533 - val_acc: 0.7109\n"
          ],
          "name": "stdout"
        }
      ]
    },
    {
      "cell_type": "markdown",
      "metadata": {
        "id": "FT3LaOPo3Hss",
        "colab_type": "text"
      },
      "source": [
        "#### ベースライン結果"
      ]
    },
    {
      "cell_type": "code",
      "metadata": {
        "id": "GN4wb1yGDHNI",
        "colab_type": "code",
        "colab": {}
      },
      "source": [
        "test_loss, test_acc = model_noaug.evaluate(test_gen)\n",
        "print('loss:', test_loss, 'acc:', test_acc)"
      ],
      "execution_count": 0,
      "outputs": []
    },
    {
      "cell_type": "code",
      "metadata": {
        "id": "I4tKIkkS2fMv",
        "colab_type": "code",
        "colab": {}
      },
      "source": [
        "acc = baseline.history[\"acc\"]\n",
        "val_acc = baseline.history[\"val_acc\"]\n",
        "loss = baseline.history[\"loss\"]\n",
        "val_loss = baseline.history[\"val_loss\"]"
      ],
      "execution_count": 0,
      "outputs": []
    },
    {
      "cell_type": "markdown",
      "metadata": {
        "id": "j6YOaiu64VTE",
        "colab_type": "text"
      },
      "source": [
        "Accuracy"
      ]
    },
    {
      "cell_type": "code",
      "metadata": {
        "id": "rUAv3xc-4NLe",
        "colab_type": "code",
        "colab": {
          "base_uri": "https://localhost:8080/",
          "height": 265
        },
        "outputId": "4ba9bf04-e30d-4022-e1eb-eda94874a135"
      },
      "source": [
        "plt.plot(np.arange(epochs), acc, label='acc')\n",
        "plt.plot(np.arange(epochs), val_acc, label='val_acc')\n",
        "plt.legend()\n",
        "plt.show()"
      ],
      "execution_count": 144,
      "outputs": [
        {
          "output_type": "display_data",
          "data": {
            "image/png": "[encoded data removed]",
            "text/plain": [
              "<Figure size 432x288 with 1 Axes>"
            ]
          },
          "metadata": {
            "tags": [],
            "needs_background": "light"
          }
        }
      ]
    },
    {
      "cell_type": "markdown",
      "metadata": {
        "id": "LZID96J64YBd",
        "colab_type": "text"
      },
      "source": [
        "Loss\n"
      ]
    },
    {
      "cell_type": "code",
      "metadata": {
        "id": "aP5cTXf34UK2",
        "colab_type": "code",
        "colab": {
          "base_uri": "https://localhost:8080/",
          "height": 265
        },
        "outputId": "7f8a9b9d-c8ec-46e5-cd07-c2e549999be1"
      },
      "source": [
        "plt.plot(np.arange(epochs), loss, label='loss')\n",
        "plt.plot(np.arange(epochs), val_loss, label='val_loss')\n",
        "plt.legend()\n",
        "plt.show()"
      ],
      "execution_count": 145,
      "outputs": [
        {
          "output_type": "display_data",
          "data": {
            "image/png": "[encoded data removed]",
            "text/plain": [
              "<Figure size 432x288 with 1 Axes>"
            ]
          },
          "metadata": {
            "tags": [],
            "needs_background": "light"
          }
        }
      ]
    },
    {
      "cell_type": "markdown",
      "metadata": {
        "id": "plRh2-K9uEWw",
        "colab_type": "text"
      },
      "source": [
        "# Data Augmentation\n",
        "HorizontalFlipのみ"
      ]
    },
    {
      "cell_type": "markdown",
      "metadata": {
        "id": "nU97v5xLuPKL",
        "colab_type": "text"
      },
      "source": [
        "### kerasのImageDataGenerator"
      ]
    },
    {
      "cell_type": "code",
      "metadata": {
        "id": "a3wVgopbDhvq",
        "colab_type": "code",
        "colab": {}
      },
      "source": [
        "model_imagedatagen = build_model()\n",
        "model_imagedatagen.compile(loss=\"categorical_crossentropy\", optimizer='adam', metrics=[\"acc\"])"
      ],
      "execution_count": 0,
      "outputs": []
    },
    {
      "cell_type": "code",
      "metadata": {
        "id": "qXCfuoLItQ8k",
        "colab_type": "code",
        "colab": {}
      },
      "source": [
        "steps_per_epoch = len(x_train) // batch_size\n",
        "validation_steps = len(x_valid) // batch_size\n",
        "\n",
        "train_gen = ImageDataGenerator(horizontal_flip=True)\n",
        "valid_gen = ImageDataGenerator()"
      ],
      "execution_count": 0,
      "outputs": []
    },
    {
      "cell_type": "code",
      "metadata": {
        "id": "2HWNwLD56VLn",
        "colab_type": "code",
        "colab": {
          "base_uri": "https://localhost:8080/",
          "height": 1000
        },
        "outputId": "48cc6610-64f0-47d9-f489-2fbfbd1ab994"
      },
      "source": [
        "imagedatagen = model_imagedatagen.fit(\n",
        "    train_gen.flow(x_train, y_train, batch_size=batch_size), \n",
        "    steps_per_epoch=steps_per_epoch,\n",
        "    epochs=epochs, \n",
        "    validation_data=valid_gen.flow(x_valid, y_valid, batch_size=batch_size),\n",
        "    validation_steps=validation_steps,\n",
        "    verbose=1\n",
        ")"
      ],
      "execution_count": 155,
      "outputs": [
        {
          "output_type": "stream",
          "text": [
            "Epoch 1/50\n",
            "156/156 [==============================] - 24s 154ms/step - loss: 1.1901 - acc: 0.6225 - val_loss: 4.7490 - val_acc: 0.1056\n",
            "Epoch 2/50\n",
            "156/156 [==============================] - 23s 148ms/step - loss: 0.7510 - acc: 0.7509 - val_loss: 2.9916 - val_acc: 0.1060\n",
            "Epoch 3/50\n",
            "156/156 [==============================] - 23s 149ms/step - loss: 0.6372 - acc: 0.7902 - val_loss: 3.6295 - val_acc: 0.1062\n",
            "Epoch 4/50\n",
            "156/156 [==============================] - 23s 149ms/step - loss: 0.9235 - acc: 0.7085 - val_loss: 308.6958 - val_acc: 0.1763\n",
            "Epoch 5/50\n",
            "156/156 [==============================] - 23s 149ms/step - loss: 1.1933 - acc: 0.6383 - val_loss: 3.5233 - val_acc: 0.2717\n",
            "Epoch 6/50\n",
            "156/156 [==============================] - 23s 149ms/step - loss: 0.7960 - acc: 0.7401 - val_loss: 2.9895 - val_acc: 0.2232\n",
            "Epoch 7/50\n",
            "156/156 [==============================] - 23s 149ms/step - loss: 1.1359 - acc: 0.6413 - val_loss: 26.1923 - val_acc: 0.3098\n",
            "Epoch 8/50\n",
            "156/156 [==============================] - 23s 149ms/step - loss: 1.0320 - acc: 0.6609 - val_loss: 3.5679 - val_acc: 0.5634\n",
            "Epoch 9/50\n",
            "156/156 [==============================] - 23s 149ms/step - loss: 0.7870 - acc: 0.7304 - val_loss: 0.9248 - val_acc: 0.6778\n",
            "Epoch 10/50\n",
            "156/156 [==============================] - 23s 149ms/step - loss: 0.6283 - acc: 0.7810 - val_loss: 0.7906 - val_acc: 0.7368\n",
            "Epoch 11/50\n",
            "156/156 [==============================] - 23s 149ms/step - loss: 0.5397 - acc: 0.8095 - val_loss: 0.8139 - val_acc: 0.7361\n",
            "Epoch 12/50\n",
            "156/156 [==============================] - 23s 148ms/step - loss: 0.6038 - acc: 0.7931 - val_loss: 1.3513 - val_acc: 0.6072\n",
            "Epoch 13/50\n",
            "156/156 [==============================] - 23s 149ms/step - loss: 0.5027 - acc: 0.8267 - val_loss: 0.6709 - val_acc: 0.7788\n",
            "Epoch 14/50\n",
            "156/156 [==============================] - 23s 149ms/step - loss: 0.4108 - acc: 0.8553 - val_loss: 0.7274 - val_acc: 0.7679\n",
            "Epoch 15/50\n",
            "156/156 [==============================] - 23s 149ms/step - loss: 0.3608 - acc: 0.8741 - val_loss: 0.7220 - val_acc: 0.7761\n",
            "Epoch 16/50\n",
            "156/156 [==============================] - 23s 149ms/step - loss: 1.0647 - acc: 0.6915 - val_loss: 13.1604 - val_acc: 0.1921\n",
            "Epoch 17/50\n",
            "156/156 [==============================] - 23s 149ms/step - loss: 0.9845 - acc: 0.6612 - val_loss: 1.1812 - val_acc: 0.6165\n",
            "Epoch 18/50\n",
            "156/156 [==============================] - 23s 149ms/step - loss: 0.6514 - acc: 0.7757 - val_loss: 0.8639 - val_acc: 0.7077\n",
            "Epoch 19/50\n",
            "156/156 [==============================] - 23s 150ms/step - loss: 0.5356 - acc: 0.8169 - val_loss: 0.7437 - val_acc: 0.7572\n",
            "Epoch 20/50\n",
            "156/156 [==============================] - 23s 149ms/step - loss: 0.4271 - acc: 0.8543 - val_loss: 0.6613 - val_acc: 0.7833\n",
            "Epoch 21/50\n",
            "156/156 [==============================] - 23s 149ms/step - loss: 0.3462 - acc: 0.8809 - val_loss: 0.7223 - val_acc: 0.7758\n",
            "Epoch 22/50\n",
            "156/156 [==============================] - 23s 149ms/step - loss: 0.2971 - acc: 0.8990 - val_loss: 0.8382 - val_acc: 0.7578\n",
            "Epoch 23/50\n",
            "156/156 [==============================] - 23s 149ms/step - loss: 0.2841 - acc: 0.9029 - val_loss: 0.7267 - val_acc: 0.7814\n",
            "Epoch 24/50\n",
            "156/156 [==============================] - 23s 149ms/step - loss: 0.2451 - acc: 0.9158 - val_loss: 0.7493 - val_acc: 0.7858\n",
            "Epoch 25/50\n",
            "156/156 [==============================] - 23s 149ms/step - loss: 0.2645 - acc: 0.9124 - val_loss: 3.1107 - val_acc: 0.6933\n",
            "Epoch 26/50\n",
            "156/156 [==============================] - 23s 149ms/step - loss: 0.3275 - acc: 0.8891 - val_loss: 0.7101 - val_acc: 0.7916\n",
            "Epoch 27/50\n",
            "156/156 [==============================] - 23s 149ms/step - loss: 0.1907 - acc: 0.9332 - val_loss: 0.8489 - val_acc: 0.7797\n",
            "Epoch 28/50\n",
            "156/156 [==============================] - 23s 148ms/step - loss: 0.1570 - acc: 0.9454 - val_loss: 0.8094 - val_acc: 0.7882\n",
            "Epoch 29/50\n",
            "156/156 [==============================] - 23s 149ms/step - loss: 0.1468 - acc: 0.9484 - val_loss: 1.0232 - val_acc: 0.7456\n",
            "Epoch 30/50\n",
            "156/156 [==============================] - 23s 149ms/step - loss: 0.1431 - acc: 0.9507 - val_loss: 0.8954 - val_acc: 0.7827\n",
            "Epoch 31/50\n",
            "156/156 [==============================] - 23s 149ms/step - loss: 0.1254 - acc: 0.9571 - val_loss: 1.1866 - val_acc: 0.7352\n",
            "Epoch 32/50\n",
            "156/156 [==============================] - 23s 149ms/step - loss: 0.1155 - acc: 0.9594 - val_loss: 0.8597 - val_acc: 0.7980\n",
            "Epoch 33/50\n",
            "156/156 [==============================] - 23s 149ms/step - loss: 0.1114 - acc: 0.9613 - val_loss: 0.9743 - val_acc: 0.7790\n",
            "Epoch 34/50\n",
            "156/156 [==============================] - 23s 149ms/step - loss: 0.1041 - acc: 0.9651 - val_loss: 1.2630 - val_acc: 0.7441\n",
            "Epoch 35/50\n",
            "156/156 [==============================] - 23s 149ms/step - loss: 0.1012 - acc: 0.9647 - val_loss: 1.0471 - val_acc: 0.7652\n",
            "Epoch 36/50\n",
            "156/156 [==============================] - 23s 149ms/step - loss: 0.1089 - acc: 0.9627 - val_loss: 0.9323 - val_acc: 0.7912\n",
            "Epoch 37/50\n",
            "156/156 [==============================] - 23s 149ms/step - loss: 0.1002 - acc: 0.9648 - val_loss: 0.9451 - val_acc: 0.7843\n",
            "Epoch 38/50\n",
            "156/156 [==============================] - 23s 149ms/step - loss: 0.0926 - acc: 0.9690 - val_loss: 1.0917 - val_acc: 0.7613\n",
            "Epoch 39/50\n",
            "156/156 [==============================] - 23s 149ms/step - loss: 0.0908 - acc: 0.9685 - val_loss: 1.0143 - val_acc: 0.7745\n",
            "Epoch 40/50\n",
            "156/156 [==============================] - 23s 149ms/step - loss: 0.0922 - acc: 0.9680 - val_loss: 1.0838 - val_acc: 0.7677\n",
            "Epoch 41/50\n",
            "156/156 [==============================] - 23s 149ms/step - loss: 0.0791 - acc: 0.9727 - val_loss: 1.1418 - val_acc: 0.7565\n",
            "Epoch 42/50\n",
            "156/156 [==============================] - 23s 148ms/step - loss: 0.0773 - acc: 0.9737 - val_loss: 0.9066 - val_acc: 0.7997\n",
            "Epoch 43/50\n",
            "156/156 [==============================] - 23s 149ms/step - loss: 0.0797 - acc: 0.9718 - val_loss: 1.3025 - val_acc: 0.7423\n",
            "Epoch 44/50\n",
            "156/156 [==============================] - 23s 149ms/step - loss: 0.0730 - acc: 0.9752 - val_loss: 1.1137 - val_acc: 0.7728\n",
            "Epoch 45/50\n",
            "156/156 [==============================] - 23s 149ms/step - loss: 0.0722 - acc: 0.9756 - val_loss: 1.0735 - val_acc: 0.7760\n",
            "Epoch 46/50\n",
            "156/156 [==============================] - 23s 149ms/step - loss: 0.0708 - acc: 0.9764 - val_loss: 1.2658 - val_acc: 0.7561\n",
            "Epoch 47/50\n",
            "156/156 [==============================] - 23s 149ms/step - loss: 0.0649 - acc: 0.9776 - val_loss: 1.1262 - val_acc: 0.7743\n",
            "Epoch 48/50\n",
            "156/156 [==============================] - 23s 149ms/step - loss: 0.0709 - acc: 0.9768 - val_loss: 1.1496 - val_acc: 0.7790\n",
            "Epoch 49/50\n",
            "156/156 [==============================] - 23s 149ms/step - loss: 0.2615 - acc: 0.9187 - val_loss: 1.7509 - val_acc: 0.6156\n",
            "Epoch 50/50\n",
            "156/156 [==============================] - 23s 149ms/step - loss: 0.4077 - acc: 0.8669 - val_loss: 0.9298 - val_acc: 0.7534\n"
          ],
          "name": "stdout"
        }
      ]
    },
    {
      "cell_type": "code",
      "metadata": {
        "id": "HrIH_7mljOfS",
        "colab_type": "code",
        "colab": {}
      },
      "source": [
        "train_gen = ImageSequence(\n",
        "    x_train, y_train, batch_size, augmentation=\"imagedatagen\"\n",
        ")\n",
        "\n",
        "test_gen = ImageSequence(\n",
        "    x_test, y_test, batch_size, augmentation=\"imagedatagen\"\n",
        ")"
      ],
      "execution_count": 0,
      "outputs": []
    },
    {
      "cell_type": "code",
      "metadata": {
        "id": "KcJLevvTkH2-",
        "colab_type": "code",
        "colab": {
          "base_uri": "https://localhost:8080/",
          "height": 697
        },
        "outputId": "52d81311-f70d-4f13-ef5c-fab9aec5a977"
      },
      "source": [
        "imagedatagen = model_imagedatagen.fit(\n",
        "    train_gen, \n",
        "    steps_per_epoch=len(train_gen),\n",
        "    epochs=epochs, \n",
        "    validation_data=test_gen,\n",
        "    validation_steps=len(test_gen),\n",
        "    verbose=1\n",
        ")"
      ],
      "execution_count": 86,
      "outputs": [
        {
          "output_type": "stream",
          "text": [
            "Epoch 1/20\n",
            "195/195 [==============================] - 30s 153ms/step - loss: 1.1385 - acc: 0.6322 - val_loss: 2.9086 - val_acc: 0.0999\n",
            "Epoch 2/20\n",
            "195/195 [==============================] - 30s 152ms/step - loss: 0.6573 - acc: 0.7745 - val_loss: 2.9733 - val_acc: 0.1068\n",
            "Epoch 3/20\n",
            "195/195 [==============================] - 29s 149ms/step - loss: 0.7393 - acc: 0.7743 - val_loss: 2.9917 - val_acc: 0.2108\n",
            "Epoch 4/20\n",
            "195/195 [==============================] - 29s 149ms/step - loss: 0.6376 - acc: 0.7993 - val_loss: 3174.8625 - val_acc: 0.1058\n",
            "Epoch 5/20\n",
            "195/195 [==============================] - 29s 149ms/step - loss: 0.6288 - acc: 0.7907 - val_loss: 1.0405 - val_acc: 0.6680\n",
            "Epoch 6/20\n",
            "195/195 [==============================] - 29s 149ms/step - loss: 0.4411 - acc: 0.8487 - val_loss: 1.2303 - val_acc: 0.6559\n",
            "Epoch 7/20\n",
            "195/195 [==============================] - 29s 149ms/step - loss: 0.3571 - acc: 0.8774 - val_loss: 0.6623 - val_acc: 0.7928\n",
            "Epoch 8/20\n",
            "195/195 [==============================] - 29s 149ms/step - loss: 0.3015 - acc: 0.8955 - val_loss: 0.8311 - val_acc: 0.7524\n",
            "Epoch 9/20\n",
            "195/195 [==============================] - 29s 149ms/step - loss: 0.2595 - acc: 0.9108 - val_loss: 0.7174 - val_acc: 0.7869\n",
            "Epoch 10/20\n",
            "195/195 [==============================] - 29s 149ms/step - loss: 0.2347 - acc: 0.9204 - val_loss: 0.9797 - val_acc: 0.7403\n",
            "Epoch 11/20\n",
            "195/195 [==============================] - 29s 148ms/step - loss: 0.2196 - acc: 0.9255 - val_loss: 0.9240 - val_acc: 0.7623\n",
            "Epoch 12/20\n",
            "195/195 [==============================] - 29s 149ms/step - loss: 0.2010 - acc: 0.9321 - val_loss: 0.6984 - val_acc: 0.7993\n",
            "Epoch 13/20\n",
            "195/195 [==============================] - 29s 149ms/step - loss: 0.1823 - acc: 0.9382 - val_loss: 0.8254 - val_acc: 0.7888\n",
            "Epoch 14/20\n",
            "195/195 [==============================] - 29s 149ms/step - loss: 0.1752 - acc: 0.9396 - val_loss: 0.9159 - val_acc: 0.7729\n",
            "Epoch 15/20\n",
            "195/195 [==============================] - 29s 149ms/step - loss: 0.1614 - acc: 0.9450 - val_loss: 1.0085 - val_acc: 0.7405\n",
            "Epoch 16/20\n",
            "195/195 [==============================] - 29s 149ms/step - loss: 0.1492 - acc: 0.9492 - val_loss: 1.1776 - val_acc: 0.7308\n",
            "Epoch 17/20\n",
            "195/195 [==============================] - 29s 149ms/step - loss: 0.1393 - acc: 0.9520 - val_loss: 1.1445 - val_acc: 0.7275\n",
            "Epoch 18/20\n",
            "195/195 [==============================] - 29s 148ms/step - loss: 0.1286 - acc: 0.9557 - val_loss: 1.1238 - val_acc: 0.7473\n",
            "Epoch 19/20\n",
            "195/195 [==============================] - 29s 148ms/step - loss: 0.1252 - acc: 0.9570 - val_loss: 0.9201 - val_acc: 0.7799\n",
            "Epoch 20/20\n",
            "195/195 [==============================] - 29s 148ms/step - loss: 0.1123 - acc: 0.9612 - val_loss: 0.8106 - val_acc: 0.7981\n"
          ],
          "name": "stdout"
        }
      ]
    },
    {
      "cell_type": "markdown",
      "metadata": {
        "id": "2R-E33dT9PY_",
        "colab_type": "text"
      },
      "source": [
        "#### ImageDataGeneraotr結果"
      ]
    },
    {
      "cell_type": "code",
      "metadata": {
        "id": "XlvrW11GI1sN",
        "colab_type": "code",
        "colab": {
          "base_uri": "https://localhost:8080/",
          "height": 51
        },
        "outputId": "f1da3f7c-abbc-47ec-b689-8c6728d685f5"
      },
      "source": [
        "test_loss, test_acc = model_imagedatagen.evaluate(test_gen)\n",
        "print(f'loss: {test_loss:.4f} - acc: {test_acc:.4f}')"
      ],
      "execution_count": 163,
      "outputs": [
        {
          "output_type": "stream",
          "text": [
            "313/313 [==============================] - 5s 15ms/step - loss: 0.9400 - acc: 0.7489\n",
            "loss: 0.9400 - acc: 0.7489\n"
          ],
          "name": "stdout"
        }
      ]
    },
    {
      "cell_type": "code",
      "metadata": {
        "id": "LgsibFEl8nwW",
        "colab_type": "code",
        "colab": {}
      },
      "source": [
        "acc = imagedatagen.history[\"acc\"]\n",
        "val_acc = imagedatagen.history[\"val_acc\"]\n",
        "loss = imagedatagen.history[\"loss\"]\n",
        "val_loss = imagedatagen.history[\"val_loss\"]"
      ],
      "execution_count": 0,
      "outputs": []
    },
    {
      "cell_type": "code",
      "metadata": {
        "id": "cqET-b5S8nkA",
        "colab_type": "code",
        "colab": {
          "base_uri": "https://localhost:8080/",
          "height": 265
        },
        "outputId": "947da37e-901e-43a6-de7c-68617c4856e9"
      },
      "source": [
        "plt.plot(np.arange(epochs), acc, label='acc')\n",
        "plt.plot(np.arange(epochs), val_acc, label='val_acc')\n",
        "plt.legend()\n",
        "plt.show()"
      ],
      "execution_count": 168,
      "outputs": [
        {
          "output_type": "display_data",
          "data": {
            "image/png": "[encoded data removed]",
            "text/plain": [
              "<Figure size 432x288 with 1 Axes>"
            ]
          },
          "metadata": {
            "tags": [],
            "needs_background": "light"
          }
        }
      ]
    },
    {
      "cell_type": "code",
      "metadata": {
        "id": "LGd5UxE_8nYC",
        "colab_type": "code",
        "colab": {
          "base_uri": "https://localhost:8080/",
          "height": 269
        },
        "outputId": "7e1bf7c4-aa8b-4210-af56-824f4d82a2ec"
      },
      "source": [
        "plt.plot(np.arange(epochs), loss, label='loss')\n",
        "plt.plot(np.arange(epochs), val_loss, label='val_loss')\n",
        "plt.ylim(0, 5)\n",
        "plt.legend()\n",
        "plt.show()"
      ],
      "execution_count": 169,
      "outputs": [
        {
          "output_type": "display_data",
          "data": {
            "image/png": "[encoded data removed]",
            "text/plain": [
              "<Figure size 432x288 with 1 Axes>"
            ]
          },
          "metadata": {
            "tags": [],
            "needs_background": "light"
          }
        }
      ]
    },
    {
      "cell_type": "markdown",
      "metadata": {
        "id": "WIqe5lvU8uTB",
        "colab_type": "text"
      },
      "source": [
        "### albumentations"
      ]
    },
    {
      "cell_type": "code",
      "metadata": {
        "id": "VExivd3b-Kzp",
        "colab_type": "code",
        "colab": {}
      },
      "source": [
        "model_albu = build_model()\n",
        "model_albu.compile(loss=\"categorical_crossentropy\", optimizer='adam', metrics=[\"acc\"])"
      ],
      "execution_count": 0,
      "outputs": []
    },
    {
      "cell_type": "code",
      "metadata": {
        "id": "c_-mkbLg8x72",
        "colab_type": "code",
        "colab": {}
      },
      "source": [
        "train_gen = ImageSequence(\n",
        "    x_train, y_train, batch_size, augmentation=\"albumentation\"\n",
        ")\n",
        "\n",
        "test_gen = ImageSequence(\n",
        "    x_test, y_test, batch_size, augmentation=\"albumentation\"\n",
        ")"
      ],
      "execution_count": 0,
      "outputs": []
    },
    {
      "cell_type": "code",
      "metadata": {
        "id": "cXsZYIMp-Ksf",
        "colab_type": "code",
        "colab": {
          "base_uri": "https://localhost:8080/",
          "height": 697
        },
        "outputId": "b5e282ce-89c3-42f7-cbcf-8ad0e932cea9"
      },
      "source": [
        "albumentation = model_albu.fit(\n",
        "    train_gen, \n",
        "    steps_per_epoch=len(train_gen),\n",
        "    epochs=epochs, \n",
        "    validation_data=test_gen,\n",
        "    validation_steps=len(test_gen),\n",
        "    verbose=1\n",
        ")"
      ],
      "execution_count": 89,
      "outputs": [
        {
          "output_type": "stream",
          "text": [
            "Epoch 1/20\n",
            "195/195 [==============================] - 30s 151ms/step - loss: 1.0804 - acc: 0.6533 - val_loss: 3.3569 - val_acc: 0.1335\n",
            "Epoch 2/20\n",
            "195/195 [==============================] - 29s 147ms/step - loss: 0.6073 - acc: 0.7909 - val_loss: 3.4318 - val_acc: 0.1000\n",
            "Epoch 3/20\n",
            "195/195 [==============================] - 29s 146ms/step - loss: 0.4743 - acc: 0.8382 - val_loss: 3.3012 - val_acc: 0.1584\n",
            "Epoch 4/20\n",
            "195/195 [==============================] - 29s 147ms/step - loss: 0.4135 - acc: 0.8580 - val_loss: 1.7325 - val_acc: 0.4572\n",
            "Epoch 5/20\n",
            "195/195 [==============================] - 29s 147ms/step - loss: 0.3545 - acc: 0.8774 - val_loss: 1.3884 - val_acc: 0.6091\n",
            "Epoch 6/20\n",
            "195/195 [==============================] - 29s 147ms/step - loss: 0.3126 - acc: 0.8920 - val_loss: 0.6855 - val_acc: 0.7927\n",
            "Epoch 7/20\n",
            "195/195 [==============================] - 29s 147ms/step - loss: 0.2858 - acc: 0.9015 - val_loss: 0.9104 - val_acc: 0.7529\n",
            "Epoch 8/20\n",
            "195/195 [==============================] - 29s 147ms/step - loss: 0.2540 - acc: 0.9121 - val_loss: 0.7460 - val_acc: 0.7803\n",
            "Epoch 9/20\n",
            "195/195 [==============================] - 29s 147ms/step - loss: 0.2322 - acc: 0.9210 - val_loss: 0.9254 - val_acc: 0.7384\n",
            "Epoch 10/20\n",
            "195/195 [==============================] - 29s 147ms/step - loss: 0.2184 - acc: 0.9237 - val_loss: 0.8246 - val_acc: 0.7701\n",
            "Epoch 11/20\n",
            "195/195 [==============================] - 29s 147ms/step - loss: 0.1946 - acc: 0.9329 - val_loss: 0.7709 - val_acc: 0.7836\n",
            "Epoch 12/20\n",
            "195/195 [==============================] - 29s 147ms/step - loss: 0.1755 - acc: 0.9390 - val_loss: 0.8324 - val_acc: 0.7892\n",
            "Epoch 13/20\n",
            "195/195 [==============================] - 29s 146ms/step - loss: 0.1772 - acc: 0.9392 - val_loss: 0.8177 - val_acc: 0.7871\n",
            "Epoch 14/20\n",
            "195/195 [==============================] - 29s 146ms/step - loss: 0.1477 - acc: 0.9495 - val_loss: 0.8526 - val_acc: 0.7843\n",
            "Epoch 15/20\n",
            "195/195 [==============================] - 29s 147ms/step - loss: 0.1363 - acc: 0.9536 - val_loss: 0.7871 - val_acc: 0.8084\n",
            "Epoch 16/20\n",
            "195/195 [==============================] - 29s 147ms/step - loss: 0.1291 - acc: 0.9551 - val_loss: 0.9088 - val_acc: 0.7735\n",
            "Epoch 17/20\n",
            "195/195 [==============================] - 29s 147ms/step - loss: 0.1263 - acc: 0.9559 - val_loss: 0.8081 - val_acc: 0.8023\n",
            "Epoch 18/20\n",
            "195/195 [==============================] - 29s 147ms/step - loss: 0.1171 - acc: 0.9601 - val_loss: 0.8125 - val_acc: 0.7997\n",
            "Epoch 19/20\n",
            "195/195 [==============================] - 29s 147ms/step - loss: 0.1077 - acc: 0.9636 - val_loss: 0.8691 - val_acc: 0.8008\n",
            "Epoch 20/20\n",
            "195/195 [==============================] - 29s 147ms/step - loss: 0.0994 - acc: 0.9663 - val_loss: 1.0637 - val_acc: 0.7498\n"
          ],
          "name": "stdout"
        }
      ]
    },
    {
      "cell_type": "code",
      "metadata": {
        "id": "v9Gmm4nS-KpY",
        "colab_type": "code",
        "colab": {
          "base_uri": "https://localhost:8080/",
          "height": 51
        },
        "outputId": "d1cce5c8-42a8-422c-b76f-e803ff119d17"
      },
      "source": [
        "test_loss, test_acc = model_albu.evaluate(test_gen)\n",
        "print(f'loss: {test_loss:.4f} - acc: {test_acc:.4f}')"
      ],
      "execution_count": 92,
      "outputs": [
        {
          "output_type": "stream",
          "text": [
            "39/39 [==============================] - 2s 45ms/step - loss: 1.0766 - acc: 0.7531\n",
            "loss: 1.0766 - acc: 0.7531\n"
          ],
          "name": "stdout"
        }
      ]
    },
    {
      "cell_type": "markdown",
      "metadata": {
        "id": "_tYPV7qOlaaP",
        "colab_type": "text"
      },
      "source": [
        "# 結果まとめ"
      ]
    },
    {
      "cell_type": "code",
      "metadata": {
        "id": "IK4bV_d1lbmo",
        "colab_type": "code",
        "colab": {
          "base_uri": "https://localhost:8080/",
          "height": 265
        },
        "outputId": "28487896-13df-4f53-fa17-34d4275d3f66"
      },
      "source": [
        "acc_noaug = baseline.history[\"val_acc\"]\n",
        "acc_imagedatagen = imagedatagen.history[\"val_acc\"]\n",
        "acc_albumentation = albumentation.history[\"val_acc\"]\n",
        "\n",
        "plt.plot(np.arange(epochs), acc_noaug, label='no DA')\n",
        "plt.plot(np.arange(epochs), acc_imagedatagen, label='ImageDataGenerator')\n",
        "plt.plot(np.arange(epochs), acc_albumentation, label='albumentations')\n",
        "plt.legend()\n",
        "plt.show()"
      ],
      "execution_count": 90,
      "outputs": [
        {
          "output_type": "display_data",
          "data": {
            "image/png": "[encoded data removed]",
            "text/plain": [
              "<Figure size 432x288 with 1 Axes>"
            ]
          },
          "metadata": {
            "tags": [],
            "needs_background": "light"
          }
        }
      ]
    },
    {
      "cell_type": "code",
      "metadata": {
        "id": "QxrpeMNcrcFb",
        "colab_type": "code",
        "colab": {}
      },
      "source": [
        ""
      ],
      "execution_count": 0,
      "outputs": []
    }
  ]
}