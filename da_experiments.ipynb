{
  "nbformat": 4,
  "nbformat_minor": 0,
  "metadata": {
    "colab": {
      "name": "da_experiments.ipynb",
      "provenance": [],
      "collapsed_sections": [
        "0tIF2Mlf_uri",
        "Sz6AhIs4SUA4",
        "60nphVzQ0e4y",
        "FT3LaOPo3Hss",
        "bHcfis8o0Nur"
      ],
      "authorship_tag": "ABX9TyOH3WB9L8j+F3kcirUdnPeO",
      "include_colab_link": true
    },
    "kernelspec": {
      "name": "python3",
      "display_name": "Python 3"
    },
    "accelerator": "GPU"
  },
  "cells": [
    {
      "cell_type": "markdown",
      "metadata": {
        "id": "view-in-github",
        "colab_type": "text"
      },
      "source": [
        "<a href=\"https://colab.research.google.com/github/yumion/onodera-lab/blob/master/da_experiments.ipynb\" target=\"_parent\"><img src=\"https://colab.research.google.com/assets/colab-badge.svg\" alt=\"Open In Colab\"/></a>"
      ]
    },
    {
      "cell_type": "markdown",
      "metadata": {
        "id": "4foHMGHKprWB",
        "colab_type": "text"
      },
      "source": [
        "# ImageDataGenerator vs albumentations"
      ]
    },
    {
      "cell_type": "markdown",
      "metadata": {
        "id": "E_4pgI5VpnBO",
        "colab_type": "text"
      },
      "source": [
        "# 共通のライブラリをimport "
      ]
    },
    {
      "cell_type": "code",
      "metadata": {
        "id": "-z0uo3MblgSP",
        "colab_type": "code",
        "colab": {}
      },
      "source": [
        "from glob import glob\n",
        "import random\n",
        "import numpy as np\n",
        "import cv2\n",
        "from PIL import Image\n",
        "from matplotlib import pyplot as plt\n",
        "%matplotlib inline"
      ],
      "execution_count": 0,
      "outputs": []
    },
    {
      "cell_type": "markdown",
      "metadata": {
        "id": "YpwBGqIUplqH",
        "colab_type": "text"
      },
      "source": [
        "# tensorflowのバージョン確認"
      ]
    },
    {
      "cell_type": "code",
      "metadata": {
        "id": "w2FPs_Pql562",
        "colab_type": "code",
        "colab": {}
      },
      "source": [
        "import tensorflow as tf\n",
        "from tensorflow import keras as K"
      ],
      "execution_count": 0,
      "outputs": []
    },
    {
      "cell_type": "code",
      "metadata": {
        "id": "pst_2k2jmAlJ",
        "colab_type": "code",
        "colab": {
          "base_uri": "https://localhost:8080/",
          "height": 51
        },
        "outputId": "c7302f25-026c-463d-c038-07aa66d7c768"
      },
      "source": [
        "print(tf.__version__)\n",
        "print(K.__version__)"
      ],
      "execution_count": 5,
      "outputs": [
        {
          "output_type": "stream",
          "text": [
            "2.2.0\n",
            "2.3.0-tf\n"
          ],
          "name": "stdout"
        }
      ]
    },
    {
      "cell_type": "markdown",
      "metadata": {
        "id": "TZ2dk0TnBulm",
        "colab_type": "text"
      },
      "source": [
        "# seed固定"
      ]
    },
    {
      "cell_type": "code",
      "metadata": {
        "id": "406mjUSiBxTx",
        "colab_type": "code",
        "colab": {}
      },
      "source": [
        "SEED = 1\n",
        "random.seed(SEED)\n",
        "np.random.seed(SEED)\n",
        "tf.random.set_seed(SEED)"
      ],
      "execution_count": 0,
      "outputs": []
    },
    {
      "cell_type": "markdown",
      "metadata": {
        "id": "AHx4l6jQpkxn",
        "colab_type": "text"
      },
      "source": [
        "# Data Augmentation用のライブラリ"
      ]
    },
    {
      "cell_type": "code",
      "metadata": {
        "id": "svLHjinXmDAD",
        "colab_type": "code",
        "colab": {}
      },
      "source": [
        "import albumentations as albu\n",
        "from tensorflow.keras.preprocessing.image import ImageDataGenerator"
      ],
      "execution_count": 0,
      "outputs": []
    },
    {
      "cell_type": "markdown",
      "metadata": {
        "id": "ywAA9N7upkQ9",
        "colab_type": "text"
      },
      "source": [
        "# Datasetの読み込み\n",
        "cifar10を使います"
      ]
    },
    {
      "cell_type": "markdown",
      "metadata": {
        "id": "0tIF2Mlf_uri",
        "colab_type": "text"
      },
      "source": [
        "## keras.datasetsを使う場合\n",
        "PILで読み込んでいる？"
      ]
    },
    {
      "cell_type": "code",
      "metadata": {
        "id": "ic9TFo0bmsVi",
        "colab_type": "code",
        "colab": {}
      },
      "source": [
        "(x_train, y_train), (x_test, y_test) = K.datasets.cifar10.load_data()"
      ],
      "execution_count": 0,
      "outputs": []
    },
    {
      "cell_type": "code",
      "metadata": {
        "id": "fnmc4IbUo3Bj",
        "colab_type": "code",
        "colab": {
          "base_uri": "https://localhost:8080/",
          "height": 34
        },
        "outputId": "b842a56d-427f-4ca4-97d7-337f4c8cbf86"
      },
      "source": [
        "# データ数の確認\n",
        "len(x_train), len(x_test)"
      ],
      "execution_count": 65,
      "outputs": [
        {
          "output_type": "execute_result",
          "data": {
            "text/plain": [
              "(50000, 10000)"
            ]
          },
          "metadata": {
            "tags": []
          },
          "execution_count": 65
        }
      ]
    },
    {
      "cell_type": "code",
      "metadata": {
        "id": "CbeZ-qY_xuxD",
        "colab_type": "code",
        "colab": {
          "base_uri": "https://localhost:8080/",
          "height": 34
        },
        "outputId": "fb958c72-cb3b-4e17-cf2f-015493ca0c34"
      },
      "source": [
        "x_train.shape, y_train.shape"
      ],
      "execution_count": 66,
      "outputs": [
        {
          "output_type": "execute_result",
          "data": {
            "text/plain": [
              "((50000, 32, 32, 3), (50000, 1))"
            ]
          },
          "metadata": {
            "tags": []
          },
          "execution_count": 66
        }
      ]
    },
    {
      "cell_type": "code",
      "metadata": {
        "id": "gTtyYsYDYMOZ",
        "colab_type": "code",
        "colab": {
          "base_uri": "https://localhost:8080/",
          "height": 300
        },
        "outputId": "65b715c8-a452-4101-a158-0b38fe03e57c"
      },
      "source": [
        "print(y_train[200])\n",
        "plt.imshow(x_train[200])"
      ],
      "execution_count": 75,
      "outputs": [
        {
          "output_type": "stream",
          "text": [
            "[6]\n"
          ],
          "name": "stdout"
        },
        {
          "output_type": "execute_result",
          "data": {
            "text/plain": [
              "<matplotlib.image.AxesImage at 0x7fa8bacbe3c8>"
            ]
          },
          "metadata": {
            "tags": []
          },
          "execution_count": 75
        },
        {
          "output_type": "display_data",
          "data": {
            "image/png": "[encoded data removed]",
            "text/plain": [
              "<Figure size 432x288 with 1 Axes>"
            ]
          },
          "metadata": {
            "tags": [],
            "needs_background": "light"
          }
        }
      ]
    },
    {
      "cell_type": "markdown",
      "metadata": {
        "id": "DWaC03sL-_mh",
        "colab_type": "text"
      },
      "source": [
        "---"
      ]
    },
    {
      "cell_type": "markdown",
      "metadata": {
        "id": "BOBw2XMQ-59N",
        "colab_type": "text"
      },
      "source": [
        "## torchvisionを使う場合\n",
        "cifar10をlocalにダウンロードします"
      ]
    },
    {
      "cell_type": "markdown",
      "metadata": {
        "id": "Sz6AhIs4SUA4",
        "colab_type": "text"
      },
      "source": [
        "#### pngで保存（PIL使用）"
      ]
    },
    {
      "cell_type": "code",
      "metadata": {
        "id": "cK7ySzbF-_Cb",
        "colab_type": "code",
        "colab": {
          "base_uri": "https://localhost:8080/",
          "height": 34
        },
        "outputId": "ccaade15-cb8e-408c-a999-97775ba0d244"
      },
      "source": [
        "import torchvision\n",
        "# train\n",
        "trainset = torchvision.datasets.CIFAR10('./data', train=True, download=True)"
      ],
      "execution_count": 98,
      "outputs": [
        {
          "output_type": "stream",
          "text": [
            "Files already downloaded and verified\n"
          ],
          "name": "stdout"
        }
      ]
    },
    {
      "cell_type": "code",
      "metadata": {
        "id": "BcgCihYzA91C",
        "colab_type": "code",
        "colab": {
          "base_uri": "https://localhost:8080/",
          "height": 34
        },
        "outputId": "b41c4698-e504-449d-ff9f-56ec639319f1"
      },
      "source": [
        "# test\n",
        "testset = torchvision.datasets.CIFAR10('./data', train=False, download=True)"
      ],
      "execution_count": 99,
      "outputs": [
        {
          "output_type": "stream",
          "text": [
            "Files already downloaded and verified\n"
          ],
          "name": "stdout"
        }
      ]
    },
    {
      "cell_type": "code",
      "metadata": {
        "id": "gk_l42mALN_E",
        "colab_type": "code",
        "colab": {
          "base_uri": "https://localhost:8080/",
          "height": 119
        },
        "outputId": "9579e07f-6ec2-47b8-f89c-874377cc143e"
      },
      "source": [
        "# 参考\n",
        "# https://cafe-and-cookies.tokyo/wp/?p=942\n",
        "import os, sys\n",
        "import pickle\n",
        "from tqdm import tqdm\n",
        "\n",
        "\n",
        "def unpickle(file):\n",
        "    with open(file, 'rb') as fo:\n",
        "        dict = pickle.load(fo, encoding='bytes')\n",
        "    return dict\n",
        "\n",
        "\n",
        "def extract(datafile, labelfile, savedir):\n",
        "    try:\n",
        "        os.makedirs(savedir)\n",
        "    except:\n",
        "        pass\n",
        "\n",
        "    if os.path.isfile(datafile) == False or os.path.isfile(labelfile) == False:\n",
        "        print(\"invalid file error: data file:{}, label file:{}\".format(datafile, labelfile))\n",
        "        sys.exit()\n",
        "\n",
        "\n",
        "    # ラベルのロード。ラベル名しか使わない。\n",
        "    labels    = unpickle(labelfile)\n",
        "\n",
        "    if b\"label_names\" in labels:\n",
        "        labels    = unpickle(labelfile)[b\"label_names\"]\n",
        "    else:\n",
        "        labels    = unpickle(labelfile)[b\"coarse_label_names\"]\n",
        "\n",
        "    # イメージデータのロード。ファイル名、ラベル、データをそれぞれ取り出しておく。\n",
        "    images      = unpickle(datafile)\n",
        "\n",
        "    filenames   = images[b\"filenames\"]\n",
        "    if b\"labels\" in images:\n",
        "        image_labels = images[b\"labels\"]\n",
        "    else:\n",
        "        image_labels = images[b\"coarse_labels\"]\n",
        "    image_data        = images[b\"data\"]\n",
        "\n",
        "\n",
        "    # ファイル格納先のフォルダを作成\n",
        "    for i in labels:\n",
        "        try:\n",
        "            dir=os.path.join(savedir, i.decode('utf-8'))\n",
        "            os.makedirs(dir)\n",
        "        except:\n",
        "            pass\n",
        "\n",
        "    # イメージファイルの展開\n",
        "    for i, _ in tqdm(enumerate(filenames)):\n",
        "        filename    = filenames[i]\n",
        "        image_label = image_labels[i]\n",
        "        image       = image_data[i]\n",
        "        file_path   = os.path.join(os.path.join(savedir, labels[image_label].decode('utf-8'), filename.decode('utf-8')))\n",
        "\n",
        "        reshaped_array = np.reshape(image, [3, 32, 32]).transpose(1,2,0)\n",
        "        im = Image.fromarray(reshaped_array)\n",
        "\n",
        "        with open(file_path, mode='wb') as out:\n",
        "            im.save(out)\n",
        "        # print(\"Save image: {}\".format(file_path))\n",
        "\n",
        "\n",
        "extract(\"./data/cifar-10-batches-py/data_batch_1\", \"./data/cifar-10-batches-py/batches.meta\", \"./PNG/train\")\n",
        "extract(\"./data/cifar-10-batches-py/data_batch_2\", \"./data/cifar-10-batches-py/batches.meta\", \"./PNG/train\")\n",
        "extract(\"./data/cifar-10-batches-py/data_batch_3\", \"./data/cifar-10-batches-py/batches.meta\", \"./PNG/train\")\n",
        "extract(\"./data/cifar-10-batches-py/data_batch_4\", \"./data/cifar-10-batches-py/batches.meta\", \"./PNG/train\")\n",
        "extract(\"./data/cifar-10-batches-py/data_batch_5\", \"./data/cifar-10-batches-py/batches.meta\", \"./PNG/train\")\n",
        "extract(\"./data/cifar-10-batches-py/test_batch\", \"./data/cifar-10-batches-py/batches.meta\", \"./PNG/test\")"
      ],
      "execution_count": 8,
      "outputs": [
        {
          "output_type": "stream",
          "text": [
            "10000it [00:03, 2778.65it/s]\n",
            "10000it [00:03, 2882.52it/s]\n",
            "10000it [00:03, 2822.99it/s]\n",
            "10000it [00:03, 2888.97it/s]\n",
            "10000it [00:03, 2855.20it/s]\n",
            "10000it [00:03, 2888.37it/s]\n"
          ],
          "name": "stderr"
        }
      ]
    },
    {
      "cell_type": "markdown",
      "metadata": {
        "id": "rGcTCjeM09GV",
        "colab_type": "text"
      },
      "source": [
        "#### datasetをpathで読み込み"
      ]
    },
    {
      "cell_type": "code",
      "metadata": {
        "id": "R9JIR6ijWMLj",
        "colab_type": "code",
        "colab": {}
      },
      "source": [
        "label2index = {\n",
        "    'airplane': 0, \n",
        "    'automobile': 1,\n",
        "    'bird': 2,\n",
        "    'cat': 3,\n",
        "    'deer': 4,\n",
        "    'dog': 5,\n",
        "    'frog': 6,\n",
        "    'horse': 7,\n",
        "    'ship': 8,\n",
        "    'truck': 9\n",
        "}"
      ],
      "execution_count": 0,
      "outputs": []
    },
    {
      "cell_type": "code",
      "metadata": {
        "id": "eVF3uD0gVY76",
        "colab_type": "code",
        "colab": {}
      },
      "source": [
        "x_train = sorted(glob('./PNG/train/*/*.png'))\n",
        "y_train = [label2index[x.split('/')[-2]] for x in x_train]"
      ],
      "execution_count": 0,
      "outputs": []
    },
    {
      "cell_type": "code",
      "metadata": {
        "id": "kLxV0NBUW4dK",
        "colab_type": "code",
        "colab": {
          "base_uri": "https://localhost:8080/",
          "height": 34
        },
        "outputId": "b8adc6c3-39c2-40ac-c574-d39801441e58"
      },
      "source": [
        "len(x_train), len(y_train)"
      ],
      "execution_count": 10,
      "outputs": [
        {
          "output_type": "execute_result",
          "data": {
            "text/plain": [
              "(50000, 50000)"
            ]
          },
          "metadata": {
            "tags": []
          },
          "execution_count": 10
        }
      ]
    },
    {
      "cell_type": "code",
      "metadata": {
        "id": "t3ae8hSfgpqJ",
        "colab_type": "code",
        "colab": {
          "base_uri": "https://localhost:8080/",
          "height": 300
        },
        "outputId": "85c7dffa-d8dc-4d79-9393-a456231b393b"
      },
      "source": [
        "print(y_train[200])\n",
        "im = Image.open(x_train[200])\n",
        "im = np.array(im)\n",
        "plt.imshow(im)"
      ],
      "execution_count": 11,
      "outputs": [
        {
          "output_type": "stream",
          "text": [
            "0\n"
          ],
          "name": "stdout"
        },
        {
          "output_type": "execute_result",
          "data": {
            "text/plain": [
              "<matplotlib.image.AxesImage at 0x7f860ce43898>"
            ]
          },
          "metadata": {
            "tags": []
          },
          "execution_count": 11
        },
        {
          "output_type": "display_data",
          "data": {
            "image/png": "[encoded data removed]",
            "text/plain": [
              "<Figure size 432x288 with 1 Axes>"
            ]
          },
          "metadata": {
            "tags": [],
            "needs_background": "light"
          }
        }
      ]
    },
    {
      "cell_type": "code",
      "metadata": {
        "id": "_Oind-n-V6vu",
        "colab_type": "code",
        "colab": {}
      },
      "source": [
        "x_test = sorted(glob('./PNG/test/*/*.png'))\n",
        "y_test = [label2index[x.split('/')[-2]] for x in x_test]"
      ],
      "execution_count": 0,
      "outputs": []
    },
    {
      "cell_type": "code",
      "metadata": {
        "id": "7gGY8mB-X_Xv",
        "colab_type": "code",
        "colab": {
          "base_uri": "https://localhost:8080/",
          "height": 34
        },
        "outputId": "0c65abff-0f20-4334-8f53-0197cd909fb5"
      },
      "source": [
        "len(x_test), len(y_test)"
      ],
      "execution_count": 13,
      "outputs": [
        {
          "output_type": "execute_result",
          "data": {
            "text/plain": [
              "(10000, 10000)"
            ]
          },
          "metadata": {
            "tags": []
          },
          "execution_count": 13
        }
      ]
    },
    {
      "cell_type": "code",
      "metadata": {
        "id": "8BpZ3YQg7T1G",
        "colab_type": "code",
        "colab": {}
      },
      "source": [
        "random.shuffle(x_train)\n",
        "random.shuffle(y_train)\n",
        "random.shuffle(x_test)\n",
        "random.shuffle(x_test)"
      ],
      "execution_count": 0,
      "outputs": []
    },
    {
      "cell_type": "markdown",
      "metadata": {
        "id": "DUZSBFMMruIa",
        "colab_type": "text"
      },
      "source": [
        "# Model構築\n",
        "ResNet50"
      ]
    },
    {
      "cell_type": "code",
      "metadata": {
        "id": "qUPfzH7krtOX",
        "colab_type": "code",
        "colab": {}
      },
      "source": [
        "def build_model(num_classes=10):\n",
        "    base_model = K.applications.resnet50.ResNet50(include_top=False, weights='imagenet')\n",
        "    x = base_model.output\n",
        "    x = K.layers.GlobalAveragePooling2D()(x)\n",
        "    outputs = K.layers.Dense(num_classes, activation='softmax')(x)\n",
        "\n",
        "    model = K.models.Model(base_model.input, outputs)\n",
        "    # model.summary()\n",
        "    return model"
      ],
      "execution_count": 0,
      "outputs": []
    },
    {
      "cell_type": "markdown",
      "metadata": {
        "id": "x1Fdr2Pd9cpd",
        "colab_type": "text"
      },
      "source": [
        "# Generator作成"
      ]
    },
    {
      "cell_type": "markdown",
      "metadata": {
        "id": "60nphVzQ0e4y",
        "colab_type": "text"
      },
      "source": [
        "### keras.dataset.cifar10を使う場合\n"
      ]
    },
    {
      "cell_type": "code",
      "metadata": {
        "id": "2C1BCz9jn8Qy",
        "colab_type": "code",
        "colab": {}
      },
      "source": [
        "# keras.datasetsの場合\n",
        "class ImageSequence(K.utils.Sequence):\n",
        "    def __init__(\n",
        "        self,\n",
        "        X: np.array, Y: np.array,\n",
        "        batch_size: int,\n",
        "        augmentation=None,\n",
        "    ):\n",
        "        self.X = X\n",
        "        self.Y = Y\n",
        "        self.batch_size = batch_size\n",
        "        self.augmentation = augmentation\n",
        "\n",
        "    def __getitem__(self, idx):\n",
        "        input_data = self.X[\n",
        "            idx * self.batch_size: (idx + 1) * self.batch_size\n",
        "        ]\n",
        "        labels = self.Y[\n",
        "            idx * self.batch_size: (idx + 1) * self.batch_size\n",
        "        ]\n",
        "        batch_x = list()\n",
        "        batch_y = list()\n",
        "\n",
        "        for input_image, label in zip(input_data, labels):\n",
        "            # Horizontal flipのみ\n",
        "            if self.augmentation == 'imagedatagen':\n",
        "                input_image = _image_augmentation(input_image.copy())\n",
        "                \n",
        "            elif self.augmentation == 'albumentation':\n",
        "                input_image = _get_augmentation(input_image.copy())\n",
        "\n",
        "            batch_x.append(input_image)\n",
        "            batch_y.append(label)\n",
        "\n",
        "        batch_x = np.array(batch_x)\n",
        "        batch_y = np.array(batch_y)\n",
        "        batch_x, batch_y = _pre_process(batch_x, batch_y)\n",
        "        \n",
        "        return batch_x, batch_y\n",
        "\n",
        "    def __len__(self):\n",
        "        return len(self.X) // self.batch_size\n",
        "    \n",
        "\n",
        "def _pre_process(batch_x, batch_y, num_classes=10):\n",
        "    batch_x = batch_x.astype('float32') / 255.\n",
        "    batch_y = np.identity(num_classes)[batch_y].squeeze()\n",
        "    return batch_x, batch_y\n",
        "\n",
        "    \n",
        "def _image_augmentation(image):\n",
        "    image_datagen = ImageDataGenerator(horizontal_flip=True)\n",
        "    gen = image_datagen.flow(image[np.newaxis], batch_size=1)\n",
        "    img_batches = next(gen)\n",
        "    return img_batches[0]\n",
        "\n",
        "\n",
        "def _get_augmentation(image):\n",
        "    transform = [\n",
        "        albu.HorizontalFlip(p=0.5),\n",
        "    ]\n",
        "    transforms = albu.Compose(transform)\n",
        "    augmented = transforms(image=image)\n",
        "    return augmented['image']"
      ],
      "execution_count": 0,
      "outputs": []
    },
    {
      "cell_type": "markdown",
      "metadata": {
        "id": "-JRIfWnK0jTL",
        "colab_type": "text"
      },
      "source": [
        "### png保存した画像を読み込む場合"
      ]
    },
    {
      "cell_type": "code",
      "metadata": {
        "id": "1DgzgQvkTMMu",
        "colab_type": "code",
        "colab": {}
      },
      "source": [
        "# 画像から読み込む場合\n",
        "class ImageSequence(K.utils.Sequence):\n",
        "    def __init__(\n",
        "        self,\n",
        "        X: list,\n",
        "        batch_size: int,\n",
        "        augmentation=None,\n",
        "    ):\n",
        "        self.X = X\n",
        "        random.shuffle(self.X)\n",
        "        self.batch_size = batch_size\n",
        "        self.augmentation = augmentation\n",
        "\n",
        "    def __getitem__(self, idx):\n",
        "        input_data = self.X[\n",
        "            idx * self.batch_size: (idx + 1) * self.batch_size\n",
        "        ]\n",
        "        random.shuffle(input_data)\n",
        "\n",
        "        batch_x = list()\n",
        "        batch_y = list()\n",
        "\n",
        "        for imagefile in input_data:\n",
        "            # read image by PIL\n",
        "            input_image = Image.open(imagefile)\n",
        "            input_image = np.array(input_image)\n",
        "            # read image by opencv\n",
        "            # input_image = cv2.imread(imagefile)[..., ::-1]\n",
        "\n",
        "            label = label2index[imagefile.split('/')[-2]]\n",
        "\n",
        "            # Horizontal flipのみ\n",
        "            if self.augmentation == 'imagedatagen':\n",
        "                input_image = _image_augmentation(input_image.copy())\n",
        "                \n",
        "            elif self.augmentation == 'albumentation':\n",
        "                input_image = _get_augmentation(input_image.copy())\n",
        "\n",
        "            batch_x.append(input_image)\n",
        "            batch_y.append(label)\n",
        "\n",
        "        batch_x = np.array(batch_x)\n",
        "        batch_y = np.array(batch_y)\n",
        "        batch_x, batch_y = _pre_process(batch_x, batch_y)\n",
        "        \n",
        "        return batch_x, batch_y\n",
        "\n",
        "    def __len__(self):\n",
        "        return len(self.X) // self.batch_size\n",
        "    \n",
        "\n",
        "def _pre_process(batch_x, batch_y, num_classes=10):\n",
        "    batch_x = batch_x.astype('float32') / 255.\n",
        "    batch_y = np.identity(num_classes)[batch_y].squeeze()\n",
        "    return batch_x, batch_y\n",
        "\n",
        "    \n",
        "def _image_augmentation(image):\n",
        "    image_datagen = ImageDataGenerator(horizontal_flip=True)\n",
        "    gen = image_datagen.flow(image[np.newaxis], batch_size=1)\n",
        "    img_batches = next(gen)\n",
        "    return img_batches[0]\n",
        "\n",
        "\n",
        "def _get_augmentation(image):\n",
        "    transform = [\n",
        "        albu.HorizontalFlip(p=0.5),\n",
        "    ]\n",
        "    transforms = albu.Compose(transform)\n",
        "    augmented = transforms(image=image)\n",
        "    return augmented['image']"
      ],
      "execution_count": 0,
      "outputs": []
    },
    {
      "cell_type": "markdown",
      "metadata": {
        "id": "PuGPrO0tzGcI",
        "colab_type": "text"
      },
      "source": [
        "# 学習条件"
      ]
    },
    {
      "cell_type": "code",
      "metadata": {
        "id": "KwH7SwgevPxy",
        "colab_type": "code",
        "colab": {}
      },
      "source": [
        "# Fixed Parameters\n",
        "batch_size = 256\n",
        "epochs = 50\n",
        "num_classes = 10"
      ],
      "execution_count": 0,
      "outputs": []
    },
    {
      "cell_type": "markdown",
      "metadata": {
        "id": "IS2_8oY7i5ZA",
        "colab_type": "text"
      },
      "source": [
        "# ベースライン"
      ]
    },
    {
      "cell_type": "code",
      "metadata": {
        "id": "6OeE8bF4DfYq",
        "colab_type": "code",
        "colab": {}
      },
      "source": [
        "model_noaug = build_model(num_classes)\n",
        "model_noaug.compile(loss=\"categorical_crossentropy\", optimizer='adam', metrics=[\"acc\"])"
      ],
      "execution_count": 0,
      "outputs": []
    },
    {
      "cell_type": "markdown",
      "metadata": {
        "id": "TKlAyuql0swk",
        "colab_type": "text"
      },
      "source": [
        "#### Sequneceを使う場合"
      ]
    },
    {
      "cell_type": "code",
      "metadata": {
        "id": "q_1w2H6lxUsg",
        "colab_type": "code",
        "colab": {}
      },
      "source": [
        "train_gen = ImageSequence(\n",
        "    x_train, \n",
        "    # y_train, \n",
        "    batch_size, \n",
        "    augmentation=None\n",
        ")\n",
        "\n",
        "test_gen = ImageSequence(\n",
        "    x_test, \n",
        "    # y_test, \n",
        "    batch_size, \n",
        "    augmentation=None\n",
        ")"
      ],
      "execution_count": 0,
      "outputs": []
    },
    {
      "cell_type": "code",
      "metadata": {
        "id": "ew9_NF4dvPej",
        "colab_type": "code",
        "colab": {
          "base_uri": "https://localhost:8080/",
          "height": 1000
        },
        "outputId": "4a3b2fb9-9805-4b47-af0a-9e8864a98a26"
      },
      "source": [
        "baseline = model_noaug.fit(\n",
        "    train_gen, \n",
        "    steps_per_epoch=len(train_gen),\n",
        "    epochs=epochs, \n",
        "    validation_data=test_gen,\n",
        "    validation_steps=len(test_gen),\n",
        "    verbose=1\n",
        ")"
      ],
      "execution_count": 26,
      "outputs": [
        {
          "output_type": "stream",
          "text": [
            "Epoch 1/50\n",
            "195/195 [==============================] - 30s 152ms/step - loss: 1.1164 - acc: 0.6367 - val_loss: 3.7424 - val_acc: 0.1001\n",
            "Epoch 2/50\n",
            "195/195 [==============================] - 29s 148ms/step - loss: 0.6600 - acc: 0.7802 - val_loss: 6.2512 - val_acc: 0.1002\n",
            "Epoch 3/50\n",
            "195/195 [==============================] - 29s 149ms/step - loss: 0.7785 - acc: 0.7468 - val_loss: 6.4625 - val_acc: 0.1112\n",
            "Epoch 4/50\n",
            "195/195 [==============================] - 29s 150ms/step - loss: 0.5495 - acc: 0.8097 - val_loss: 1.9468 - val_acc: 0.4100\n",
            "Epoch 5/50\n",
            "195/195 [==============================] - 29s 149ms/step - loss: 0.3480 - acc: 0.8794 - val_loss: 1.1253 - val_acc: 0.6586\n",
            "Epoch 6/50\n",
            "195/195 [==============================] - 29s 149ms/step - loss: 0.2481 - acc: 0.9139 - val_loss: 0.9570 - val_acc: 0.7393\n",
            "Epoch 7/50\n",
            "195/195 [==============================] - 29s 149ms/step - loss: 0.2028 - acc: 0.9292 - val_loss: 0.9714 - val_acc: 0.7541\n",
            "Epoch 8/50\n",
            "195/195 [==============================] - 29s 149ms/step - loss: 0.1662 - acc: 0.9422 - val_loss: 1.2921 - val_acc: 0.7050\n",
            "Epoch 9/50\n",
            "195/195 [==============================] - 29s 149ms/step - loss: 0.1433 - acc: 0.9504 - val_loss: 1.1744 - val_acc: 0.7417\n",
            "Epoch 10/50\n",
            "195/195 [==============================] - 29s 149ms/step - loss: 0.1265 - acc: 0.9565 - val_loss: 1.0346 - val_acc: 0.7614\n",
            "Epoch 11/50\n",
            "195/195 [==============================] - 29s 148ms/step - loss: 0.1020 - acc: 0.9643 - val_loss: 1.0999 - val_acc: 0.7548\n",
            "Epoch 12/50\n",
            "195/195 [==============================] - 29s 149ms/step - loss: 0.0975 - acc: 0.9664 - val_loss: 1.1722 - val_acc: 0.7604\n",
            "Epoch 13/50\n",
            "195/195 [==============================] - 29s 149ms/step - loss: 0.0920 - acc: 0.9675 - val_loss: 1.1551 - val_acc: 0.7471\n",
            "Epoch 14/50\n",
            "195/195 [==============================] - 29s 149ms/step - loss: 0.0827 - acc: 0.9722 - val_loss: 1.0568 - val_acc: 0.7649\n",
            "Epoch 15/50\n",
            "195/195 [==============================] - 29s 148ms/step - loss: 0.0718 - acc: 0.9752 - val_loss: 1.2807 - val_acc: 0.7385\n",
            "Epoch 16/50\n",
            "195/195 [==============================] - 29s 148ms/step - loss: 0.0708 - acc: 0.9764 - val_loss: 1.0594 - val_acc: 0.7797\n",
            "Epoch 17/50\n",
            "195/195 [==============================] - 29s 149ms/step - loss: 0.0655 - acc: 0.9776 - val_loss: 1.2183 - val_acc: 0.7618\n",
            "Epoch 18/50\n",
            "195/195 [==============================] - 29s 149ms/step - loss: 0.0620 - acc: 0.9793 - val_loss: 1.0995 - val_acc: 0.7721\n",
            "Epoch 19/50\n",
            "195/195 [==============================] - 29s 149ms/step - loss: 0.0651 - acc: 0.9779 - val_loss: 1.3445 - val_acc: 0.7414\n",
            "Epoch 20/50\n",
            "195/195 [==============================] - 29s 149ms/step - loss: 0.0596 - acc: 0.9800 - val_loss: 1.2691 - val_acc: 0.7505\n",
            "Epoch 21/50\n",
            "195/195 [==============================] - 29s 150ms/step - loss: 0.0629 - acc: 0.9785 - val_loss: 1.1829 - val_acc: 0.7644\n",
            "Epoch 22/50\n",
            "195/195 [==============================] - 29s 149ms/step - loss: 0.0565 - acc: 0.9814 - val_loss: 1.0709 - val_acc: 0.7781\n",
            "Epoch 23/50\n",
            "195/195 [==============================] - 29s 150ms/step - loss: 0.0485 - acc: 0.9838 - val_loss: 1.1340 - val_acc: 0.7704\n",
            "Epoch 24/50\n",
            "195/195 [==============================] - 29s 150ms/step - loss: 0.0485 - acc: 0.9837 - val_loss: 1.2950 - val_acc: 0.7377\n",
            "Epoch 25/50\n",
            "195/195 [==============================] - 29s 149ms/step - loss: 0.0512 - acc: 0.9830 - val_loss: 1.7117 - val_acc: 0.6990\n",
            "Epoch 26/50\n",
            "195/195 [==============================] - 29s 148ms/step - loss: 0.0467 - acc: 0.9852 - val_loss: 1.1699 - val_acc: 0.7607\n",
            "Epoch 27/50\n",
            "195/195 [==============================] - 29s 149ms/step - loss: 0.0438 - acc: 0.9851 - val_loss: 1.1336 - val_acc: 0.7828\n",
            "Epoch 28/50\n",
            "195/195 [==============================] - 29s 149ms/step - loss: 0.0474 - acc: 0.9838 - val_loss: 1.1892 - val_acc: 0.7722\n",
            "Epoch 29/50\n",
            "195/195 [==============================] - 29s 149ms/step - loss: 0.0454 - acc: 0.9850 - val_loss: 1.1624 - val_acc: 0.7733\n",
            "Epoch 30/50\n",
            "195/195 [==============================] - 29s 149ms/step - loss: 0.0436 - acc: 0.9856 - val_loss: 1.2409 - val_acc: 0.7698\n",
            "Epoch 31/50\n",
            "195/195 [==============================] - 29s 150ms/step - loss: 0.0679 - acc: 0.9800 - val_loss: 163.5854 - val_acc: 0.5658\n",
            "Epoch 32/50\n",
            "195/195 [==============================] - 29s 149ms/step - loss: 0.4747 - acc: 0.8765 - val_loss: 13012.2119 - val_acc: 0.0998\n",
            "Epoch 33/50\n",
            "195/195 [==============================] - 29s 148ms/step - loss: 1.1785 - acc: 0.6232 - val_loss: 1.1441 - val_acc: 0.6393\n",
            "Epoch 34/50\n",
            "195/195 [==============================] - 29s 149ms/step - loss: 0.7513 - acc: 0.7502 - val_loss: 0.8507 - val_acc: 0.7134\n",
            "Epoch 35/50\n",
            "195/195 [==============================] - 29s 148ms/step - loss: 0.4902 - acc: 0.8414 - val_loss: 0.8507 - val_acc: 0.7309\n",
            "Epoch 36/50\n",
            "195/195 [==============================] - 29s 149ms/step - loss: 0.2567 - acc: 0.9175 - val_loss: 0.9226 - val_acc: 0.7439\n",
            "Epoch 37/50\n",
            "195/195 [==============================] - 29s 149ms/step - loss: 0.1953 - acc: 0.9363 - val_loss: 1.2859 - val_acc: 0.7104\n",
            "Epoch 38/50\n",
            "195/195 [==============================] - 29s 149ms/step - loss: 0.1590 - acc: 0.9514 - val_loss: 0.9178 - val_acc: 0.7687\n",
            "Epoch 39/50\n",
            "195/195 [==============================] - 29s 148ms/step - loss: 0.0543 - acc: 0.9821 - val_loss: 1.0488 - val_acc: 0.7816\n",
            "Epoch 40/50\n",
            "195/195 [==============================] - 29s 149ms/step - loss: 0.0289 - acc: 0.9912 - val_loss: 1.2690 - val_acc: 0.7760\n",
            "Epoch 41/50\n",
            "195/195 [==============================] - 29s 149ms/step - loss: 0.0275 - acc: 0.9915 - val_loss: 1.5675 - val_acc: 0.7367\n",
            "Epoch 42/50\n",
            "195/195 [==============================] - 29s 149ms/step - loss: 0.0449 - acc: 0.9847 - val_loss: 1.2024 - val_acc: 0.7821\n",
            "Epoch 43/50\n",
            "195/195 [==============================] - 29s 149ms/step - loss: 0.0295 - acc: 0.9901 - val_loss: 1.2779 - val_acc: 0.7740\n",
            "Epoch 44/50\n",
            "195/195 [==============================] - 29s 149ms/step - loss: 0.0321 - acc: 0.9893 - val_loss: 1.2951 - val_acc: 0.7817\n",
            "Epoch 45/50\n",
            "195/195 [==============================] - 29s 149ms/step - loss: 0.0260 - acc: 0.9913 - val_loss: 1.2960 - val_acc: 0.7811\n",
            "Epoch 46/50\n",
            "195/195 [==============================] - 29s 149ms/step - loss: 0.0275 - acc: 0.9908 - val_loss: 1.3406 - val_acc: 0.7691\n",
            "Epoch 47/50\n",
            "195/195 [==============================] - 29s 149ms/step - loss: 0.0281 - acc: 0.9905 - val_loss: 1.4106 - val_acc: 0.7633\n",
            "Epoch 48/50\n",
            "195/195 [==============================] - 29s 148ms/step - loss: 0.0288 - acc: 0.9901 - val_loss: 1.3776 - val_acc: 0.7703\n",
            "Epoch 49/50\n",
            "195/195 [==============================] - 29s 149ms/step - loss: 0.0294 - acc: 0.9901 - val_loss: 1.3780 - val_acc: 0.7686\n",
            "Epoch 50/50\n",
            "195/195 [==============================] - 29s 149ms/step - loss: 0.0269 - acc: 0.9909 - val_loss: 1.3456 - val_acc: 0.7763\n"
          ],
          "name": "stdout"
        }
      ]
    },
    {
      "cell_type": "markdown",
      "metadata": {
        "id": "FT3LaOPo3Hss",
        "colab_type": "text"
      },
      "source": [
        "#### ベースライン結果"
      ]
    },
    {
      "cell_type": "code",
      "metadata": {
        "id": "GN4wb1yGDHNI",
        "colab_type": "code",
        "colab": {
          "base_uri": "https://localhost:8080/",
          "height": 51
        },
        "outputId": "1cdf565a-f75d-4ea0-cda9-ff314d845dc5"
      },
      "source": [
        "test_loss, test_acc = model_noaug.evaluate(test_gen)\n",
        "print('loss:', test_loss, 'acc:', test_acc)"
      ],
      "execution_count": 38,
      "outputs": [
        {
          "output_type": "stream",
          "text": [
            "39/39 [==============================] - 3s 69ms/step - loss: 1.3699 - acc: 0.7718\n",
            "loss: 1.3698574304580688 acc: 0.7718349099159241\n"
          ],
          "name": "stdout"
        }
      ]
    },
    {
      "cell_type": "code",
      "metadata": {
        "id": "I4tKIkkS2fMv",
        "colab_type": "code",
        "colab": {}
      },
      "source": [
        "acc = baseline.history[\"acc\"]\n",
        "val_acc = baseline.history[\"val_acc\"]\n",
        "loss = baseline.history[\"loss\"]\n",
        "val_loss = baseline.history[\"val_loss\"]"
      ],
      "execution_count": 0,
      "outputs": []
    },
    {
      "cell_type": "markdown",
      "metadata": {
        "id": "j6YOaiu64VTE",
        "colab_type": "text"
      },
      "source": [
        "Accuracy"
      ]
    },
    {
      "cell_type": "code",
      "metadata": {
        "id": "rUAv3xc-4NLe",
        "colab_type": "code",
        "colab": {
          "base_uri": "https://localhost:8080/",
          "height": 265
        },
        "outputId": "4ba9bf04-e30d-4022-e1eb-eda94874a135"
      },
      "source": [
        "plt.plot(np.arange(epochs), acc, label='acc')\n",
        "plt.plot(np.arange(epochs), val_acc, label='val_acc')\n",
        "plt.legend()\n",
        "plt.show()"
      ],
      "execution_count": 144,
      "outputs": [
        {
          "output_type": "display_data",
          "data": {
            "image/png": "[encoded data removed]",
            "text/plain": [
              "<Figure size 432x288 with 1 Axes>"
            ]
          },
          "metadata": {
            "tags": [],
            "needs_background": "light"
          }
        }
      ]
    },
    {
      "cell_type": "markdown",
      "metadata": {
        "id": "LZID96J64YBd",
        "colab_type": "text"
      },
      "source": [
        "Loss\n"
      ]
    },
    {
      "cell_type": "code",
      "metadata": {
        "id": "aP5cTXf34UK2",
        "colab_type": "code",
        "colab": {
          "base_uri": "https://localhost:8080/",
          "height": 265
        },
        "outputId": "7f8a9b9d-c8ec-46e5-cd07-c2e549999be1"
      },
      "source": [
        "plt.plot(np.arange(epochs), loss, label='loss')\n",
        "plt.plot(np.arange(epochs), val_loss, label='val_loss')\n",
        "plt.legend()\n",
        "plt.show()"
      ],
      "execution_count": 145,
      "outputs": [
        {
          "output_type": "display_data",
          "data": {
            "image/png": "[encoded data removed]",
            "text/plain": [
              "<Figure size 432x288 with 1 Axes>"
            ]
          },
          "metadata": {
            "tags": [],
            "needs_background": "light"
          }
        }
      ]
    },
    {
      "cell_type": "markdown",
      "metadata": {
        "id": "plRh2-K9uEWw",
        "colab_type": "text"
      },
      "source": [
        "# Data Augmentation\n",
        "HorizontalFlipのみ"
      ]
    },
    {
      "cell_type": "markdown",
      "metadata": {
        "id": "nU97v5xLuPKL",
        "colab_type": "text"
      },
      "source": [
        "### kerasのImageDataGenerator"
      ]
    },
    {
      "cell_type": "code",
      "metadata": {
        "id": "a3wVgopbDhvq",
        "colab_type": "code",
        "colab": {}
      },
      "source": [
        "model_imagedatagen = build_model()\n",
        "model_imagedatagen.compile(loss=\"categorical_crossentropy\", optimizer='adam', metrics=[\"acc\"])"
      ],
      "execution_count": 0,
      "outputs": []
    },
    {
      "cell_type": "markdown",
      "metadata": {
        "id": "bHcfis8o0Nur",
        "colab_type": "text"
      },
      "source": [
        "#### ImageDataGeneratorを使う"
      ]
    },
    {
      "cell_type": "code",
      "metadata": {
        "id": "qXCfuoLItQ8k",
        "colab_type": "code",
        "colab": {}
      },
      "source": [
        "steps_per_epoch = len(x_train) // batch_size\n",
        "validation_steps = len(x_valid) // batch_size\n",
        "\n",
        "train_gen = ImageDataGenerator(horizontal_flip=True)\n",
        "valid_gen = ImageDataGenerator()"
      ],
      "execution_count": 0,
      "outputs": []
    },
    {
      "cell_type": "code",
      "metadata": {
        "id": "2HWNwLD56VLn",
        "colab_type": "code",
        "colab": {
          "base_uri": "https://localhost:8080/",
          "height": 1000
        },
        "outputId": "48cc6610-64f0-47d9-f489-2fbfbd1ab994"
      },
      "source": [
        "imagedatagen = model_imagedatagen.fit(\n",
        "    train_gen.flow(x_train, y_train, batch_size=batch_size), \n",
        "    steps_per_epoch=steps_per_epoch,\n",
        "    epochs=epochs, \n",
        "    validation_data=valid_gen.flow(x_valid, y_valid, batch_size=batch_size),\n",
        "    validation_steps=validation_steps,\n",
        "    verbose=1\n",
        ")"
      ],
      "execution_count": 155,
      "outputs": [
        {
          "output_type": "stream",
          "text": [
            "Epoch 1/50\n",
            "156/156 [==============================] - 24s 154ms/step - loss: 1.1901 - acc: 0.6225 - val_loss: 4.7490 - val_acc: 0.1056\n",
            "Epoch 2/50\n",
            "156/156 [==============================] - 23s 148ms/step - loss: 0.7510 - acc: 0.7509 - val_loss: 2.9916 - val_acc: 0.1060\n",
            "Epoch 3/50\n",
            "156/156 [==============================] - 23s 149ms/step - loss: 0.6372 - acc: 0.7902 - val_loss: 3.6295 - val_acc: 0.1062\n",
            "Epoch 4/50\n",
            "156/156 [==============================] - 23s 149ms/step - loss: 0.9235 - acc: 0.7085 - val_loss: 308.6958 - val_acc: 0.1763\n",
            "Epoch 5/50\n",
            "156/156 [==============================] - 23s 149ms/step - loss: 1.1933 - acc: 0.6383 - val_loss: 3.5233 - val_acc: 0.2717\n",
            "Epoch 6/50\n",
            "156/156 [==============================] - 23s 149ms/step - loss: 0.7960 - acc: 0.7401 - val_loss: 2.9895 - val_acc: 0.2232\n",
            "Epoch 7/50\n",
            "156/156 [==============================] - 23s 149ms/step - loss: 1.1359 - acc: 0.6413 - val_loss: 26.1923 - val_acc: 0.3098\n",
            "Epoch 8/50\n",
            "156/156 [==============================] - 23s 149ms/step - loss: 1.0320 - acc: 0.6609 - val_loss: 3.5679 - val_acc: 0.5634\n",
            "Epoch 9/50\n",
            "156/156 [==============================] - 23s 149ms/step - loss: 0.7870 - acc: 0.7304 - val_loss: 0.9248 - val_acc: 0.6778\n",
            "Epoch 10/50\n",
            "156/156 [==============================] - 23s 149ms/step - loss: 0.6283 - acc: 0.7810 - val_loss: 0.7906 - val_acc: 0.7368\n",
            "Epoch 11/50\n",
            "156/156 [==============================] - 23s 149ms/step - loss: 0.5397 - acc: 0.8095 - val_loss: 0.8139 - val_acc: 0.7361\n",
            "Epoch 12/50\n",
            "156/156 [==============================] - 23s 148ms/step - loss: 0.6038 - acc: 0.7931 - val_loss: 1.3513 - val_acc: 0.6072\n",
            "Epoch 13/50\n",
            "156/156 [==============================] - 23s 149ms/step - loss: 0.5027 - acc: 0.8267 - val_loss: 0.6709 - val_acc: 0.7788\n",
            "Epoch 14/50\n",
            "156/156 [==============================] - 23s 149ms/step - loss: 0.4108 - acc: 0.8553 - val_loss: 0.7274 - val_acc: 0.7679\n",
            "Epoch 15/50\n",
            "156/156 [==============================] - 23s 149ms/step - loss: 0.3608 - acc: 0.8741 - val_loss: 0.7220 - val_acc: 0.7761\n",
            "Epoch 16/50\n",
            "156/156 [==============================] - 23s 149ms/step - loss: 1.0647 - acc: 0.6915 - val_loss: 13.1604 - val_acc: 0.1921\n",
            "Epoch 17/50\n",
            "156/156 [==============================] - 23s 149ms/step - loss: 0.9845 - acc: 0.6612 - val_loss: 1.1812 - val_acc: 0.6165\n",
            "Epoch 18/50\n",
            "156/156 [==============================] - 23s 149ms/step - loss: 0.6514 - acc: 0.7757 - val_loss: 0.8639 - val_acc: 0.7077\n",
            "Epoch 19/50\n",
            "156/156 [==============================] - 23s 150ms/step - loss: 0.5356 - acc: 0.8169 - val_loss: 0.7437 - val_acc: 0.7572\n",
            "Epoch 20/50\n",
            "156/156 [==============================] - 23s 149ms/step - loss: 0.4271 - acc: 0.8543 - val_loss: 0.6613 - val_acc: 0.7833\n",
            "Epoch 21/50\n",
            "156/156 [==============================] - 23s 149ms/step - loss: 0.3462 - acc: 0.8809 - val_loss: 0.7223 - val_acc: 0.7758\n",
            "Epoch 22/50\n",
            "156/156 [==============================] - 23s 149ms/step - loss: 0.2971 - acc: 0.8990 - val_loss: 0.8382 - val_acc: 0.7578\n",
            "Epoch 23/50\n",
            "156/156 [==============================] - 23s 149ms/step - loss: 0.2841 - acc: 0.9029 - val_loss: 0.7267 - val_acc: 0.7814\n",
            "Epoch 24/50\n",
            "156/156 [==============================] - 23s 149ms/step - loss: 0.2451 - acc: 0.9158 - val_loss: 0.7493 - val_acc: 0.7858\n",
            "Epoch 25/50\n",
            "156/156 [==============================] - 23s 149ms/step - loss: 0.2645 - acc: 0.9124 - val_loss: 3.1107 - val_acc: 0.6933\n",
            "Epoch 26/50\n",
            "156/156 [==============================] - 23s 149ms/step - loss: 0.3275 - acc: 0.8891 - val_loss: 0.7101 - val_acc: 0.7916\n",
            "Epoch 27/50\n",
            "156/156 [==============================] - 23s 149ms/step - loss: 0.1907 - acc: 0.9332 - val_loss: 0.8489 - val_acc: 0.7797\n",
            "Epoch 28/50\n",
            "156/156 [==============================] - 23s 148ms/step - loss: 0.1570 - acc: 0.9454 - val_loss: 0.8094 - val_acc: 0.7882\n",
            "Epoch 29/50\n",
            "156/156 [==============================] - 23s 149ms/step - loss: 0.1468 - acc: 0.9484 - val_loss: 1.0232 - val_acc: 0.7456\n",
            "Epoch 30/50\n",
            "156/156 [==============================] - 23s 149ms/step - loss: 0.1431 - acc: 0.9507 - val_loss: 0.8954 - val_acc: 0.7827\n",
            "Epoch 31/50\n",
            "156/156 [==============================] - 23s 149ms/step - loss: 0.1254 - acc: 0.9571 - val_loss: 1.1866 - val_acc: 0.7352\n",
            "Epoch 32/50\n",
            "156/156 [==============================] - 23s 149ms/step - loss: 0.1155 - acc: 0.9594 - val_loss: 0.8597 - val_acc: 0.7980\n",
            "Epoch 33/50\n",
            "156/156 [==============================] - 23s 149ms/step - loss: 0.1114 - acc: 0.9613 - val_loss: 0.9743 - val_acc: 0.7790\n",
            "Epoch 34/50\n",
            "156/156 [==============================] - 23s 149ms/step - loss: 0.1041 - acc: 0.9651 - val_loss: 1.2630 - val_acc: 0.7441\n",
            "Epoch 35/50\n",
            "156/156 [==============================] - 23s 149ms/step - loss: 0.1012 - acc: 0.9647 - val_loss: 1.0471 - val_acc: 0.7652\n",
            "Epoch 36/50\n",
            "156/156 [==============================] - 23s 149ms/step - loss: 0.1089 - acc: 0.9627 - val_loss: 0.9323 - val_acc: 0.7912\n",
            "Epoch 37/50\n",
            "156/156 [==============================] - 23s 149ms/step - loss: 0.1002 - acc: 0.9648 - val_loss: 0.9451 - val_acc: 0.7843\n",
            "Epoch 38/50\n",
            "156/156 [==============================] - 23s 149ms/step - loss: 0.0926 - acc: 0.9690 - val_loss: 1.0917 - val_acc: 0.7613\n",
            "Epoch 39/50\n",
            "156/156 [==============================] - 23s 149ms/step - loss: 0.0908 - acc: 0.9685 - val_loss: 1.0143 - val_acc: 0.7745\n",
            "Epoch 40/50\n",
            "156/156 [==============================] - 23s 149ms/step - loss: 0.0922 - acc: 0.9680 - val_loss: 1.0838 - val_acc: 0.7677\n",
            "Epoch 41/50\n",
            "156/156 [==============================] - 23s 149ms/step - loss: 0.0791 - acc: 0.9727 - val_loss: 1.1418 - val_acc: 0.7565\n",
            "Epoch 42/50\n",
            "156/156 [==============================] - 23s 148ms/step - loss: 0.0773 - acc: 0.9737 - val_loss: 0.9066 - val_acc: 0.7997\n",
            "Epoch 43/50\n",
            "156/156 [==============================] - 23s 149ms/step - loss: 0.0797 - acc: 0.9718 - val_loss: 1.3025 - val_acc: 0.7423\n",
            "Epoch 44/50\n",
            "156/156 [==============================] - 23s 149ms/step - loss: 0.0730 - acc: 0.9752 - val_loss: 1.1137 - val_acc: 0.7728\n",
            "Epoch 45/50\n",
            "156/156 [==============================] - 23s 149ms/step - loss: 0.0722 - acc: 0.9756 - val_loss: 1.0735 - val_acc: 0.7760\n",
            "Epoch 46/50\n",
            "156/156 [==============================] - 23s 149ms/step - loss: 0.0708 - acc: 0.9764 - val_loss: 1.2658 - val_acc: 0.7561\n",
            "Epoch 47/50\n",
            "156/156 [==============================] - 23s 149ms/step - loss: 0.0649 - acc: 0.9776 - val_loss: 1.1262 - val_acc: 0.7743\n",
            "Epoch 48/50\n",
            "156/156 [==============================] - 23s 149ms/step - loss: 0.0709 - acc: 0.9768 - val_loss: 1.1496 - val_acc: 0.7790\n",
            "Epoch 49/50\n",
            "156/156 [==============================] - 23s 149ms/step - loss: 0.2615 - acc: 0.9187 - val_loss: 1.7509 - val_acc: 0.6156\n",
            "Epoch 50/50\n",
            "156/156 [==============================] - 23s 149ms/step - loss: 0.4077 - acc: 0.8669 - val_loss: 0.9298 - val_acc: 0.7534\n"
          ],
          "name": "stdout"
        }
      ]
    },
    {
      "cell_type": "markdown",
      "metadata": {
        "id": "TkQvgrG20H8d",
        "colab_type": "text"
      },
      "source": [
        "#### Sequenceを使う"
      ]
    },
    {
      "cell_type": "code",
      "metadata": {
        "id": "HrIH_7mljOfS",
        "colab_type": "code",
        "colab": {}
      },
      "source": [
        "train_gen = ImageSequence(\n",
        "    x_train, \n",
        "    # y_train, \n",
        "    batch_size, \n",
        "    augmentation=\"imagedatagen\"\n",
        ")\n",
        "\n",
        "test_gen = ImageSequence(\n",
        "    x_test, \n",
        "    # y_test, \n",
        "    batch_size, \n",
        "    augmentation=\"imagedatagen\"\n",
        ")"
      ],
      "execution_count": 0,
      "outputs": []
    },
    {
      "cell_type": "code",
      "metadata": {
        "id": "KcJLevvTkH2-",
        "colab_type": "code",
        "colab": {
          "base_uri": "https://localhost:8080/",
          "height": 1000
        },
        "outputId": "31d1cdd9-1b9e-42c1-8367-3659acd1afda"
      },
      "source": [
        "imagedatagen = model_imagedatagen.fit(\n",
        "    train_gen, \n",
        "    steps_per_epoch=len(train_gen),\n",
        "    epochs=epochs, \n",
        "    validation_data=test_gen,\n",
        "    validation_steps=len(test_gen),\n",
        "    verbose=1\n",
        ")"
      ],
      "execution_count": 29,
      "outputs": [
        {
          "output_type": "stream",
          "text": [
            "Epoch 1/50\n",
            "195/195 [==============================] - 35s 178ms/step - loss: 1.0867 - acc: 0.6433 - val_loss: 3.6021 - val_acc: 0.1001\n",
            "Epoch 2/50\n",
            "195/195 [==============================] - 34s 174ms/step - loss: 0.8218 - acc: 0.7234 - val_loss: 3.5534 - val_acc: 0.1609\n",
            "Epoch 3/50\n",
            "195/195 [==============================] - 34s 173ms/step - loss: 0.7617 - acc: 0.7500 - val_loss: 3.0340 - val_acc: 0.1062\n",
            "Epoch 4/50\n",
            "195/195 [==============================] - 34s 173ms/step - loss: 0.7449 - acc: 0.7573 - val_loss: 2.3041 - val_acc: 0.3803\n",
            "Epoch 5/50\n",
            "195/195 [==============================] - 34s 173ms/step - loss: 0.5763 - acc: 0.8035 - val_loss: 0.9095 - val_acc: 0.6985\n",
            "Epoch 6/50\n",
            "195/195 [==============================] - 34s 175ms/step - loss: 0.4374 - acc: 0.8491 - val_loss: 0.8671 - val_acc: 0.7276\n",
            "Epoch 7/50\n",
            "195/195 [==============================] - 34s 175ms/step - loss: 0.3664 - acc: 0.8740 - val_loss: 0.7111 - val_acc: 0.7734\n",
            "Epoch 8/50\n",
            "195/195 [==============================] - 34s 174ms/step - loss: 0.3128 - acc: 0.8922 - val_loss: 0.7141 - val_acc: 0.7687\n",
            "Epoch 9/50\n",
            "195/195 [==============================] - 34s 174ms/step - loss: 0.2780 - acc: 0.9033 - val_loss: 0.7170 - val_acc: 0.7926\n",
            "Epoch 10/50\n",
            "195/195 [==============================] - 34s 177ms/step - loss: 0.2508 - acc: 0.9142 - val_loss: 0.7798 - val_acc: 0.7736\n",
            "Epoch 11/50\n",
            "195/195 [==============================] - 34s 175ms/step - loss: 0.2255 - acc: 0.9225 - val_loss: 0.8185 - val_acc: 0.7827\n",
            "Epoch 12/50\n",
            "195/195 [==============================] - 34s 175ms/step - loss: 0.2092 - acc: 0.9282 - val_loss: 1.0321 - val_acc: 0.7322\n",
            "Epoch 13/50\n",
            "195/195 [==============================] - 34s 174ms/step - loss: 0.1911 - acc: 0.9343 - val_loss: 0.7725 - val_acc: 0.7894\n",
            "Epoch 14/50\n",
            "195/195 [==============================] - 34s 174ms/step - loss: 0.1811 - acc: 0.9379 - val_loss: 0.9136 - val_acc: 0.7600\n",
            "Epoch 15/50\n",
            "195/195 [==============================] - 34s 175ms/step - loss: 0.1674 - acc: 0.9416 - val_loss: 0.8007 - val_acc: 0.7863\n",
            "Epoch 16/50\n",
            "195/195 [==============================] - 34s 174ms/step - loss: 0.1532 - acc: 0.9476 - val_loss: 0.8604 - val_acc: 0.7650\n",
            "Epoch 17/50\n",
            "195/195 [==============================] - 34s 174ms/step - loss: 0.1462 - acc: 0.9484 - val_loss: 0.8515 - val_acc: 0.7875\n",
            "Epoch 18/50\n",
            "195/195 [==============================] - 34s 175ms/step - loss: 0.1307 - acc: 0.9557 - val_loss: 0.8983 - val_acc: 0.7689\n",
            "Epoch 19/50\n",
            "195/195 [==============================] - 34s 176ms/step - loss: 0.1351 - acc: 0.9540 - val_loss: 1.0613 - val_acc: 0.7384\n",
            "Epoch 20/50\n",
            "195/195 [==============================] - 34s 176ms/step - loss: 0.1183 - acc: 0.9598 - val_loss: 0.8605 - val_acc: 0.7848\n",
            "Epoch 21/50\n",
            "195/195 [==============================] - 34s 175ms/step - loss: 0.1124 - acc: 0.9609 - val_loss: 0.8976 - val_acc: 0.7817\n",
            "Epoch 22/50\n",
            "195/195 [==============================] - 34s 175ms/step - loss: 0.1100 - acc: 0.9626 - val_loss: 0.9053 - val_acc: 0.7960\n",
            "Epoch 23/50\n",
            "195/195 [==============================] - 34s 175ms/step - loss: 0.1048 - acc: 0.9642 - val_loss: 0.8236 - val_acc: 0.8054\n",
            "Epoch 24/50\n",
            "195/195 [==============================] - 34s 176ms/step - loss: 0.1005 - acc: 0.9655 - val_loss: 1.1349 - val_acc: 0.7544\n",
            "Epoch 25/50\n",
            "195/195 [==============================] - 34s 174ms/step - loss: 0.0914 - acc: 0.9696 - val_loss: 1.0582 - val_acc: 0.7667\n",
            "Epoch 26/50\n",
            "195/195 [==============================] - 34s 175ms/step - loss: 0.0877 - acc: 0.9701 - val_loss: 0.8514 - val_acc: 0.8023\n",
            "Epoch 27/50\n",
            "195/195 [==============================] - 34s 174ms/step - loss: 0.0847 - acc: 0.9712 - val_loss: 0.8705 - val_acc: 0.8073\n",
            "Epoch 28/50\n",
            "195/195 [==============================] - 34s 174ms/step - loss: 0.0851 - acc: 0.9708 - val_loss: 0.9375 - val_acc: 0.7991\n",
            "Epoch 29/50\n",
            "195/195 [==============================] - 34s 173ms/step - loss: 0.0811 - acc: 0.9718 - val_loss: 1.0109 - val_acc: 0.7744\n",
            "Epoch 30/50\n",
            "195/195 [==============================] - 34s 175ms/step - loss: 0.0747 - acc: 0.9739 - val_loss: 1.1260 - val_acc: 0.7613\n",
            "Epoch 31/50\n",
            "195/195 [==============================] - 34s 175ms/step - loss: 0.0709 - acc: 0.9758 - val_loss: 1.1666 - val_acc: 0.7595\n",
            "Epoch 32/50\n",
            "195/195 [==============================] - 34s 176ms/step - loss: 0.0699 - acc: 0.9758 - val_loss: 1.0574 - val_acc: 0.7713\n",
            "Epoch 33/50\n",
            "195/195 [==============================] - 34s 175ms/step - loss: 0.0725 - acc: 0.9749 - val_loss: 1.2264 - val_acc: 0.7469\n",
            "Epoch 34/50\n",
            "195/195 [==============================] - 34s 175ms/step - loss: 0.0657 - acc: 0.9774 - val_loss: 1.1551 - val_acc: 0.7667\n",
            "Epoch 35/50\n",
            "195/195 [==============================] - 34s 175ms/step - loss: 0.0609 - acc: 0.9793 - val_loss: 0.8513 - val_acc: 0.8142\n",
            "Epoch 36/50\n",
            "195/195 [==============================] - 34s 174ms/step - loss: 0.0587 - acc: 0.9797 - val_loss: 1.0730 - val_acc: 0.7699\n",
            "Epoch 37/50\n",
            "195/195 [==============================] - 34s 174ms/step - loss: 0.0606 - acc: 0.9792 - val_loss: 1.0227 - val_acc: 0.7835\n",
            "Epoch 38/50\n",
            "195/195 [==============================] - 34s 175ms/step - loss: 0.0582 - acc: 0.9803 - val_loss: 0.9340 - val_acc: 0.8080\n",
            "Epoch 39/50\n",
            "195/195 [==============================] - 34s 173ms/step - loss: 0.0556 - acc: 0.9810 - val_loss: 1.0507 - val_acc: 0.7807\n",
            "Epoch 40/50\n",
            "195/195 [==============================] - 34s 174ms/step - loss: 0.0537 - acc: 0.9814 - val_loss: 1.0204 - val_acc: 0.7981\n",
            "Epoch 41/50\n",
            "195/195 [==============================] - 34s 174ms/step - loss: 0.0519 - acc: 0.9819 - val_loss: 1.1755 - val_acc: 0.7702\n",
            "Epoch 42/50\n",
            "195/195 [==============================] - 34s 174ms/step - loss: 0.0541 - acc: 0.9812 - val_loss: 1.0970 - val_acc: 0.7878\n",
            "Epoch 43/50\n",
            "195/195 [==============================] - 34s 174ms/step - loss: 0.0493 - acc: 0.9828 - val_loss: 0.9890 - val_acc: 0.7932\n",
            "Epoch 44/50\n",
            "195/195 [==============================] - 34s 172ms/step - loss: 0.0505 - acc: 0.9826 - val_loss: 0.9276 - val_acc: 0.8081\n",
            "Epoch 45/50\n",
            "195/195 [==============================] - 34s 175ms/step - loss: 0.0439 - acc: 0.9847 - val_loss: 0.9979 - val_acc: 0.8002\n",
            "Epoch 46/50\n",
            "195/195 [==============================] - 34s 174ms/step - loss: 0.0464 - acc: 0.9842 - val_loss: 1.2905 - val_acc: 0.7566\n",
            "Epoch 47/50\n",
            "195/195 [==============================] - 34s 175ms/step - loss: 0.0481 - acc: 0.9835 - val_loss: 1.2528 - val_acc: 0.7607\n",
            "Epoch 48/50\n",
            "195/195 [==============================] - 34s 173ms/step - loss: 0.0455 - acc: 0.9848 - val_loss: 1.1814 - val_acc: 0.7753\n",
            "Epoch 49/50\n",
            "195/195 [==============================] - 34s 173ms/step - loss: 0.0434 - acc: 0.9856 - val_loss: 1.1120 - val_acc: 0.7799\n",
            "Epoch 50/50\n",
            "195/195 [==============================] - 34s 172ms/step - loss: 0.0422 - acc: 0.9861 - val_loss: 1.0962 - val_acc: 0.7864\n"
          ],
          "name": "stdout"
        }
      ]
    },
    {
      "cell_type": "markdown",
      "metadata": {
        "id": "2R-E33dT9PY_",
        "colab_type": "text"
      },
      "source": [
        "#### ImageDataGeneraotr結果"
      ]
    },
    {
      "cell_type": "code",
      "metadata": {
        "id": "XlvrW11GI1sN",
        "colab_type": "code",
        "colab": {
          "base_uri": "https://localhost:8080/",
          "height": 51
        },
        "outputId": "b516e0c7-dd90-43c4-bbec-52cd98629679"
      },
      "source": [
        "test_loss, test_acc = model_imagedatagen.evaluate(test_gen)\n",
        "print(f'loss: {test_loss:.4f} - acc: {test_acc:.4f}')"
      ],
      "execution_count": 37,
      "outputs": [
        {
          "output_type": "stream",
          "text": [
            "39/39 [==============================] - 3s 67ms/step - loss: 1.0917 - acc: 0.7904\n",
            "loss: 1.0917 - acc: 0.7904\n"
          ],
          "name": "stdout"
        }
      ]
    },
    {
      "cell_type": "code",
      "metadata": {
        "id": "LgsibFEl8nwW",
        "colab_type": "code",
        "colab": {}
      },
      "source": [
        "acc = imagedatagen.history[\"acc\"]\n",
        "val_acc = imagedatagen.history[\"val_acc\"]\n",
        "loss = imagedatagen.history[\"loss\"]\n",
        "val_loss = imagedatagen.history[\"val_loss\"]"
      ],
      "execution_count": 0,
      "outputs": []
    },
    {
      "cell_type": "code",
      "metadata": {
        "id": "cqET-b5S8nkA",
        "colab_type": "code",
        "colab": {
          "base_uri": "https://localhost:8080/",
          "height": 265
        },
        "outputId": "947da37e-901e-43a6-de7c-68617c4856e9"
      },
      "source": [
        "plt.plot(np.arange(epochs), acc, label='acc')\n",
        "plt.plot(np.arange(epochs), val_acc, label='val_acc')\n",
        "plt.legend()\n",
        "plt.show()"
      ],
      "execution_count": 168,
      "outputs": [
        {
          "output_type": "display_data",
          "data": {
            "image/png": "[encoded data removed]",
            "text/plain": [
              "<Figure size 432x288 with 1 Axes>"
            ]
          },
          "metadata": {
            "tags": [],
            "needs_background": "light"
          }
        }
      ]
    },
    {
      "cell_type": "code",
      "metadata": {
        "id": "LGd5UxE_8nYC",
        "colab_type": "code",
        "colab": {
          "base_uri": "https://localhost:8080/",
          "height": 269
        },
        "outputId": "7e1bf7c4-aa8b-4210-af56-824f4d82a2ec"
      },
      "source": [
        "plt.plot(np.arange(epochs), loss, label='loss')\n",
        "plt.plot(np.arange(epochs), val_loss, label='val_loss')\n",
        "plt.ylim(0, 5)\n",
        "plt.legend()\n",
        "plt.show()"
      ],
      "execution_count": 169,
      "outputs": [
        {
          "output_type": "display_data",
          "data": {
            "image/png": "[encoded data removed]",
            "text/plain": [
              "<Figure size 432x288 with 1 Axes>"
            ]
          },
          "metadata": {
            "tags": [],
            "needs_background": "light"
          }
        }
      ]
    },
    {
      "cell_type": "markdown",
      "metadata": {
        "id": "WIqe5lvU8uTB",
        "colab_type": "text"
      },
      "source": [
        "### albumentations"
      ]
    },
    {
      "cell_type": "code",
      "metadata": {
        "id": "VExivd3b-Kzp",
        "colab_type": "code",
        "colab": {}
      },
      "source": [
        "model_albu = build_model()\n",
        "model_albu.compile(loss=\"categorical_crossentropy\", optimizer='adam', metrics=[\"acc\"])"
      ],
      "execution_count": 0,
      "outputs": []
    },
    {
      "cell_type": "code",
      "metadata": {
        "id": "c_-mkbLg8x72",
        "colab_type": "code",
        "colab": {}
      },
      "source": [
        "train_gen = ImageSequence(\n",
        "    x_train, \n",
        "    # y_train, \n",
        "    batch_size, \n",
        "    augmentation=\"albumentation\"\n",
        ")\n",
        "\n",
        "test_gen = ImageSequence(\n",
        "    x_test, \n",
        "    # y_test, \n",
        "    batch_size, \n",
        "    augmentation=\"albumentation\"\n",
        ")"
      ],
      "execution_count": 0,
      "outputs": []
    },
    {
      "cell_type": "code",
      "metadata": {
        "id": "cXsZYIMp-Ksf",
        "colab_type": "code",
        "colab": {
          "base_uri": "https://localhost:8080/",
          "height": 1000
        },
        "outputId": "80638432-cd7e-4300-b8ac-7852946fede2"
      },
      "source": [
        "albumentation = model_albu.fit(\n",
        "    train_gen, \n",
        "    steps_per_epoch=len(train_gen),\n",
        "    epochs=epochs, \n",
        "    validation_data=test_gen,\n",
        "    validation_steps=len(test_gen),\n",
        "    verbose=1\n",
        ")"
      ],
      "execution_count": 32,
      "outputs": [
        {
          "output_type": "stream",
          "text": [
            "Epoch 1/50\n",
            "195/195 [==============================] - 30s 156ms/step - loss: 1.0869 - acc: 0.6474 - val_loss: 3.2581 - val_acc: 0.1001\n",
            "Epoch 2/50\n",
            "195/195 [==============================] - 29s 150ms/step - loss: 0.8236 - acc: 0.7390 - val_loss: 3.2538 - val_acc: 0.1001\n",
            "Epoch 3/50\n",
            "195/195 [==============================] - 29s 150ms/step - loss: 0.6362 - acc: 0.7846 - val_loss: 2.8389 - val_acc: 0.2077\n",
            "Epoch 4/50\n",
            "195/195 [==============================] - 29s 151ms/step - loss: 0.4635 - acc: 0.8405 - val_loss: 2.1018 - val_acc: 0.3774\n",
            "Epoch 5/50\n",
            "195/195 [==============================] - 29s 150ms/step - loss: 0.3822 - acc: 0.8694 - val_loss: 0.9290 - val_acc: 0.7180\n",
            "Epoch 6/50\n",
            "195/195 [==============================] - 29s 151ms/step - loss: 0.3339 - acc: 0.8840 - val_loss: 0.6759 - val_acc: 0.7947\n",
            "Epoch 7/50\n",
            "195/195 [==============================] - 29s 150ms/step - loss: 0.2971 - acc: 0.8981 - val_loss: 0.7045 - val_acc: 0.7851\n",
            "Epoch 8/50\n",
            "195/195 [==============================] - 29s 151ms/step - loss: 0.2713 - acc: 0.9066 - val_loss: 0.7459 - val_acc: 0.7817\n",
            "Epoch 9/50\n",
            "195/195 [==============================] - 29s 150ms/step - loss: 0.2411 - acc: 0.9170 - val_loss: 0.7158 - val_acc: 0.7845\n",
            "Epoch 10/50\n",
            "195/195 [==============================] - 29s 150ms/step - loss: 0.2191 - acc: 0.9237 - val_loss: 0.8684 - val_acc: 0.7556\n",
            "Epoch 11/50\n",
            "195/195 [==============================] - 29s 150ms/step - loss: 0.1989 - acc: 0.9300 - val_loss: 0.8062 - val_acc: 0.7856\n",
            "Epoch 12/50\n",
            "195/195 [==============================] - 29s 151ms/step - loss: 0.1838 - acc: 0.9369 - val_loss: 0.7501 - val_acc: 0.7988\n",
            "Epoch 13/50\n",
            "195/195 [==============================] - 29s 151ms/step - loss: 0.1699 - acc: 0.9414 - val_loss: 0.8875 - val_acc: 0.7709\n",
            "Epoch 14/50\n",
            "195/195 [==============================] - 29s 151ms/step - loss: 0.1626 - acc: 0.9442 - val_loss: 1.0773 - val_acc: 0.7393\n",
            "Epoch 15/50\n",
            "195/195 [==============================] - 29s 150ms/step - loss: 0.1427 - acc: 0.9511 - val_loss: 0.8652 - val_acc: 0.7802\n",
            "Epoch 16/50\n",
            "195/195 [==============================] - 29s 150ms/step - loss: 0.1313 - acc: 0.9554 - val_loss: 1.1153 - val_acc: 0.7500\n",
            "Epoch 17/50\n",
            "195/195 [==============================] - 29s 151ms/step - loss: 0.1218 - acc: 0.9585 - val_loss: 1.1669 - val_acc: 0.7227\n",
            "Epoch 18/50\n",
            "195/195 [==============================] - 29s 151ms/step - loss: 0.1150 - acc: 0.9602 - val_loss: 0.7897 - val_acc: 0.8143\n",
            "Epoch 19/50\n",
            "195/195 [==============================] - 29s 150ms/step - loss: 0.1242 - acc: 0.9584 - val_loss: 1.8422 - val_acc: 0.7608\n",
            "Epoch 20/50\n",
            "195/195 [==============================] - 29s 151ms/step - loss: 0.4527 - acc: 0.8697 - val_loss: 2.9307 - val_acc: 0.4970\n",
            "Epoch 21/50\n",
            "195/195 [==============================] - 29s 150ms/step - loss: 0.9471 - acc: 0.7152 - val_loss: 1.0550 - val_acc: 0.6747\n",
            "Epoch 22/50\n",
            "195/195 [==============================] - 29s 151ms/step - loss: 0.4288 - acc: 0.8517 - val_loss: 0.6816 - val_acc: 0.7781\n",
            "Epoch 23/50\n",
            "195/195 [==============================] - 29s 151ms/step - loss: 0.2490 - acc: 0.9144 - val_loss: 0.6244 - val_acc: 0.8115\n",
            "Epoch 24/50\n",
            "195/195 [==============================] - 29s 151ms/step - loss: 0.1569 - acc: 0.9470 - val_loss: 0.7009 - val_acc: 0.8129\n",
            "Epoch 25/50\n",
            "195/195 [==============================] - 29s 151ms/step - loss: 0.1145 - acc: 0.9617 - val_loss: 0.7056 - val_acc: 0.8206\n",
            "Epoch 26/50\n",
            "195/195 [==============================] - 29s 150ms/step - loss: 0.0922 - acc: 0.9687 - val_loss: 0.7988 - val_acc: 0.8081\n",
            "Epoch 27/50\n",
            "195/195 [==============================] - 29s 150ms/step - loss: 0.0774 - acc: 0.9734 - val_loss: 0.9290 - val_acc: 0.7949\n",
            "Epoch 28/50\n",
            "195/195 [==============================] - 29s 150ms/step - loss: 0.0700 - acc: 0.9761 - val_loss: 0.8301 - val_acc: 0.8168\n",
            "Epoch 29/50\n",
            "195/195 [==============================] - 29s 150ms/step - loss: 0.0651 - acc: 0.9780 - val_loss: 0.8514 - val_acc: 0.8184\n",
            "Epoch 30/50\n",
            "195/195 [==============================] - 29s 150ms/step - loss: 0.0690 - acc: 0.9761 - val_loss: 0.8376 - val_acc: 0.8147\n",
            "Epoch 31/50\n",
            "195/195 [==============================] - 29s 151ms/step - loss: 0.0604 - acc: 0.9794 - val_loss: 0.8469 - val_acc: 0.8194\n",
            "Epoch 32/50\n",
            "195/195 [==============================] - 29s 151ms/step - loss: 0.0650 - acc: 0.9779 - val_loss: 1.0010 - val_acc: 0.7887\n",
            "Epoch 33/50\n",
            "195/195 [==============================] - 29s 151ms/step - loss: 0.0590 - acc: 0.9798 - val_loss: 1.0783 - val_acc: 0.7851\n",
            "Epoch 34/50\n",
            "195/195 [==============================] - 29s 150ms/step - loss: 0.0628 - acc: 0.9783 - val_loss: 1.0675 - val_acc: 0.7888\n",
            "Epoch 35/50\n",
            "195/195 [==============================] - 29s 151ms/step - loss: 0.0584 - acc: 0.9798 - val_loss: 0.9787 - val_acc: 0.7977\n",
            "Epoch 36/50\n",
            "195/195 [==============================] - 29s 150ms/step - loss: 0.0572 - acc: 0.9803 - val_loss: 0.8593 - val_acc: 0.8171\n",
            "Epoch 37/50\n",
            "195/195 [==============================] - 29s 151ms/step - loss: 0.0568 - acc: 0.9808 - val_loss: 0.9930 - val_acc: 0.7915\n",
            "Epoch 38/50\n",
            "195/195 [==============================] - 29s 150ms/step - loss: 0.0527 - acc: 0.9824 - val_loss: 1.1180 - val_acc: 0.7718\n",
            "Epoch 39/50\n",
            "195/195 [==============================] - 29s 150ms/step - loss: 0.0554 - acc: 0.9813 - val_loss: 0.9775 - val_acc: 0.8049\n",
            "Epoch 40/50\n",
            "195/195 [==============================] - 29s 150ms/step - loss: 0.0523 - acc: 0.9825 - val_loss: 0.9564 - val_acc: 0.8101\n",
            "Epoch 41/50\n",
            "195/195 [==============================] - 29s 150ms/step - loss: 0.0471 - acc: 0.9838 - val_loss: 1.1895 - val_acc: 0.7764\n",
            "Epoch 42/50\n",
            "195/195 [==============================] - 29s 150ms/step - loss: 0.0498 - acc: 0.9836 - val_loss: 0.9699 - val_acc: 0.8049\n",
            "Epoch 43/50\n",
            "195/195 [==============================] - 29s 151ms/step - loss: 0.0468 - acc: 0.9841 - val_loss: 0.9777 - val_acc: 0.8121\n",
            "Epoch 44/50\n",
            "195/195 [==============================] - 29s 151ms/step - loss: 0.0509 - acc: 0.9829 - val_loss: 1.1497 - val_acc: 0.7778\n",
            "Epoch 45/50\n",
            "195/195 [==============================] - 29s 150ms/step - loss: 0.0463 - acc: 0.9842 - val_loss: 1.1413 - val_acc: 0.7791\n",
            "Epoch 46/50\n",
            "195/195 [==============================] - 29s 151ms/step - loss: 0.0467 - acc: 0.9844 - val_loss: 1.1944 - val_acc: 0.7682\n",
            "Epoch 47/50\n",
            "195/195 [==============================] - 29s 150ms/step - loss: 0.0446 - acc: 0.9854 - val_loss: 1.0233 - val_acc: 0.7946\n",
            "Epoch 48/50\n",
            "195/195 [==============================] - 29s 151ms/step - loss: 0.0437 - acc: 0.9855 - val_loss: 0.9544 - val_acc: 0.8124\n",
            "Epoch 49/50\n",
            "195/195 [==============================] - 29s 150ms/step - loss: 0.0420 - acc: 0.9852 - val_loss: 1.0582 - val_acc: 0.8007\n",
            "Epoch 50/50\n",
            "195/195 [==============================] - 29s 151ms/step - loss: 0.0404 - acc: 0.9865 - val_loss: 56.2776 - val_acc: 0.8013\n"
          ],
          "name": "stdout"
        }
      ]
    },
    {
      "cell_type": "code",
      "metadata": {
        "id": "v9Gmm4nS-KpY",
        "colab_type": "code",
        "colab": {
          "base_uri": "https://localhost:8080/",
          "height": 51
        },
        "outputId": "5e9aa193-fad5-4407-debf-6b3dd4de9ddb"
      },
      "source": [
        "test_loss, test_acc = model_albu.evaluate(test_gen)\n",
        "print(f'loss: {test_loss:.4f} - acc: {test_acc:.4f}')"
      ],
      "execution_count": 36,
      "outputs": [
        {
          "output_type": "stream",
          "text": [
            "39/39 [==============================] - 3s 67ms/step - loss: 53.2629 - acc: 0.8016\n",
            "loss: 53.2629 - acc: 0.8016\n"
          ],
          "name": "stdout"
        }
      ]
    },
    {
      "cell_type": "markdown",
      "metadata": {
        "id": "_tYPV7qOlaaP",
        "colab_type": "text"
      },
      "source": [
        "# 結果まとめ"
      ]
    },
    {
      "cell_type": "code",
      "metadata": {
        "id": "IK4bV_d1lbmo",
        "colab_type": "code",
        "colab": {
          "base_uri": "https://localhost:8080/",
          "height": 269
        },
        "outputId": "2b8f59fc-7107-44ca-f0b1-376678b743f6"
      },
      "source": [
        "acc_noaug = baseline.history[\"val_acc\"]\n",
        "acc_imagedatagen = imagedatagen.history[\"val_acc\"]\n",
        "acc_albumentation = albumentation.history[\"val_acc\"]\n",
        "\n",
        "plt.plot(np.arange(epochs), acc_noaug, label='no DA')\n",
        "plt.plot(np.arange(epochs), acc_imagedatagen, label='ImageDataGenerator')\n",
        "plt.plot(np.arange(epochs), acc_albumentation, label='albumentations')\n",
        "plt.ylim(0.65, 0.85)\n",
        "plt.legend()\n",
        "plt.show()"
      ],
      "execution_count": 35,
      "outputs": [
        {
          "output_type": "display_data",
          "data": {
            "image/png": "[encoded data removed]",
            "text/plain": [
              "<Figure size 432x288 with 1 Axes>"
            ]
          },
          "metadata": {
            "tags": [],
            "needs_background": "light"
          }
        }
      ]
    },
    {
      "cell_type": "code",
      "metadata": {
        "id": "QxrpeMNcrcFb",
        "colab_type": "code",
        "colab": {}
      },
      "source": [
        ""
      ],
      "execution_count": 0,
      "outputs": []
    }
  ]
}