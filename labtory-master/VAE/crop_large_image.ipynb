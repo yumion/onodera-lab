{
 "cells": [
  {
   "cell_type": "markdown",
   "metadata": {},
   "source": [
    "## 大きい2D画像を切り取る"
   ]
  },
  {
   "cell_type": "code",
   "execution_count": 59,
   "metadata": {
    "collapsed": true
   },
   "outputs": [],
   "source": [
    "import cv2\n",
    "import numpy as np\n",
    "import glob"
   ]
  },
  {
   "cell_type": "code",
   "execution_count": 60,
   "metadata": {
    "collapsed": true
   },
   "outputs": [],
   "source": [
    "files = sorted(glob.glob('/media/dl-box/HD-PNFU3/20171210T-C-009TotalScanning'+'/*.tif'))"
   ]
  },
  {
   "cell_type": "code",
   "execution_count": 67,
   "metadata": {
    "collapsed": false
   },
   "outputs": [],
   "source": [
    "class CropWindow:\n",
    "    def __init__(self, slide_step=100, window_shape=(512, 512), output_shape=(512, 512)):   \n",
    "        self.slide_step = slide_step # スライドウィンドウを動かすピクセル数\n",
    "        self.height = window_shape[0] # 切り取るウィンドウサイズ\n",
    "        self.width = window_shape[1]\n",
    "        self.output_shape = output_shape\n",
    "        self.background_rate = 0.5 # この割合以上背景がある場合は無視する\n",
    "        self.height_ex = False # 画像がぴったり切れなくて、余分にもう一度カットするか\n",
    "        self.width_ex = False\n",
    "        \n",
    "    # 画像をウィンドウサイズに切り取って保存する    \n",
    "    def crop_imgs(self, filenames):\n",
    "        if type(filenames) == list:\n",
    "            for filename in filenames:\n",
    "                self.crop_save(filename)\n",
    "        #　ファイル名が配列でない場合\n",
    "        elif type(filenames) == str:\n",
    "            self.crop_save(filenames)\n",
    "    \n",
    "    def crop_save(self, filename):\n",
    "        img = cv2.imread(filename)\n",
    "        crop_img = []\n",
    "        # 何回スライドできるか、最後がぴったり画像が切り取れるかあまるか。\n",
    "        if (img.shape[0] - self.height) % self.slide_step == 0:\n",
    "            height_steps = (img.shape[0] - self.height)//self.slide_step\n",
    "        else:\n",
    "            height_steps = (img.shape[0] - self.height)//self.slide_step + 1\n",
    "            self.heigth_ex = True\n",
    "        if (img.shape[1] - self.height) % self.slide_step == 0:\n",
    "            width_steps = (img.shape[1] - self.height)//self.slide_step\n",
    "        else:\n",
    "            width_steps = (img.shape[1] - self.height)//self.slide_step + 1\n",
    "            self.width_ex = True\n",
    "        for i in range(height_steps):\n",
    "            # 最後のステップかつ、最後にずれがある場合(高さ方向)\n",
    "            if i == height_steps-1 and self.height_ex:\n",
    "                cropped_height = img[-self.height:, :, :]\n",
    "            else:\n",
    "                cropped_height = img[i*self.slide_step:i*self.slide_step+self.height, :, :]\n",
    "            for j in range(width_steps):\n",
    "                # 最後のステップかつ、最後にずれがある場合(横方向)\n",
    "                if j == width_steps-1 and self.width_ex:\n",
    "                    cropped = cropped_height[:, -self.width: , :]\n",
    "                else:\n",
    "                    cropped = cropped_height[:, j*self.slide_step:j*self.slide_step+self.width, :]\n",
    "                if np.sum(cropped==0)/np.prod(cropped.shape) < self.background_rate:\n",
    "                    crop_img.append(cropped)\n",
    "        for i,pic in enumerate(crop_img):\n",
    "            pic = cv2.resize(pic, self.output_shape)\n",
    "            cv2.imwrite('./cropped_test/'+str(i)+'-'+filename.split('/')[-1],pic)"
   ]
  },
  {
   "cell_type": "code",
   "execution_count": 70,
   "metadata": {
    "collapsed": false
   },
   "outputs": [],
   "source": [
    "cropping = CropWindow(slide_step=512, window_shape=(512,512), output_shape=(512, 512))"
   ]
  },
  {
   "cell_type": "code",
   "execution_count": 71,
   "metadata": {
    "collapsed": false
   },
   "outputs": [],
   "source": [
    "cropping.crop_imgs(files[60])"
   ]
  }
 ],
 "metadata": {
  "anaconda-cloud": {},
  "kernelspec": {
   "display_name": "Python [Root]",
   "language": "python",
   "name": "Python [Root]"
  },
  "language_info": {
   "codemirror_mode": {
    "name": "ipython",
    "version": 3
   },
   "file_extension": ".py",
   "mimetype": "text/x-python",
   "name": "python",
   "nbconvert_exporter": "python",
   "pygments_lexer": "ipython3",
   "version": "3.5.2"
  }
 },
 "nbformat": 4,
 "nbformat_minor": 0
}
